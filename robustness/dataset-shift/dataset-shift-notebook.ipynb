{
  "cells": [
    {
      "cell_type": "markdown",
      "metadata": {
        "id": "AgzmvRiDrRxH"
      },
      "source": [
        "# **Detecting dataset shift**\n",
        "\n"
      ]
    },
    {
      "cell_type": "markdown",
      "source": [
        "In order to make sure that your algorithm does not break or fail suddenly once in production, it is essential to monitor the behaviour of the system and detect dataset shift. Here, we will illustrate an example of concept drift, and various techniques to detect the drift. \n",
        "\n",
        "We will illustrate an example of concept drift through a simple classification task, using a simple toy dataset. Here, we will:\n",
        "1. Create and visualise the artificial data  \n",
        "2. Train a logistic regression and analyse the performance \n",
        "3. Monitor performance, classification confidence and sample mean\n",
        "4. Compute various statistical metrics to compare the old and new data distributions\n",
        "5. Detect concept drift with the scikit-multiflow library and retrain your model\n",
        "\n",
        "We will implement the classifier in [scikit-learn](https://scikit-learn.org/stable/), and we will use the [scikit-multiflow](https://scikit-multiflow.github.io/) library to detect concept drift.\n",
        "\n",
        "\n",
        "\n"
      ],
      "metadata": {
        "id": "XhK5dAbyTBGC"
      }
    },
    {
      "cell_type": "markdown",
      "source": [
        "## **Import modules, create dataset and visualise the data**"
      ],
      "metadata": {
        "id": "gRg3hCVkTEAU"
      }
    },
    {
      "cell_type": "code",
      "execution_count": null,
      "metadata": {
        "colab": {
          "base_uri": "https://localhost:8080/"
        },
        "id": "r-IkaW9m7xdn",
        "outputId": "3ace867f-9eb0-4aab-a8f7-ef29edc617fc"
      },
      "outputs": [
        {
          "output_type": "stream",
          "name": "stdout",
          "text": [
            "Collecting scikit-multiflow\n",
            "  Downloading scikit_multiflow-0.5.3-cp37-cp37m-manylinux2010_x86_64.whl (1.1 MB)\n",
            "\u001b[?25l\r\u001b[K     |▎                               | 10 kB 27.2 MB/s eta 0:00:01\r\u001b[K     |▋                               | 20 kB 29.5 MB/s eta 0:00:01\r\u001b[K     |▉                               | 30 kB 34.4 MB/s eta 0:00:01\r\u001b[K     |█▏                              | 40 kB 18.3 MB/s eta 0:00:01\r\u001b[K     |█▌                              | 51 kB 14.0 MB/s eta 0:00:01\r\u001b[K     |█▊                              | 61 kB 16.0 MB/s eta 0:00:01\r\u001b[K     |██                              | 71 kB 13.5 MB/s eta 0:00:01\r\u001b[K     |██▍                             | 81 kB 14.4 MB/s eta 0:00:01\r\u001b[K     |██▋                             | 92 kB 15.7 MB/s eta 0:00:01\r\u001b[K     |███                             | 102 kB 13.5 MB/s eta 0:00:01\r\u001b[K     |███▏                            | 112 kB 13.5 MB/s eta 0:00:01\r\u001b[K     |███▌                            | 122 kB 13.5 MB/s eta 0:00:01\r\u001b[K     |███▉                            | 133 kB 13.5 MB/s eta 0:00:01\r\u001b[K     |████                            | 143 kB 13.5 MB/s eta 0:00:01\r\u001b[K     |████▍                           | 153 kB 13.5 MB/s eta 0:00:01\r\u001b[K     |████▊                           | 163 kB 13.5 MB/s eta 0:00:01\r\u001b[K     |█████                           | 174 kB 13.5 MB/s eta 0:00:01\r\u001b[K     |█████▎                          | 184 kB 13.5 MB/s eta 0:00:01\r\u001b[K     |█████▌                          | 194 kB 13.5 MB/s eta 0:00:01\r\u001b[K     |█████▉                          | 204 kB 13.5 MB/s eta 0:00:01\r\u001b[K     |██████▏                         | 215 kB 13.5 MB/s eta 0:00:01\r\u001b[K     |██████▍                         | 225 kB 13.5 MB/s eta 0:00:01\r\u001b[K     |██████▊                         | 235 kB 13.5 MB/s eta 0:00:01\r\u001b[K     |███████                         | 245 kB 13.5 MB/s eta 0:00:01\r\u001b[K     |███████▎                        | 256 kB 13.5 MB/s eta 0:00:01\r\u001b[K     |███████▋                        | 266 kB 13.5 MB/s eta 0:00:01\r\u001b[K     |████████                        | 276 kB 13.5 MB/s eta 0:00:01\r\u001b[K     |████████▏                       | 286 kB 13.5 MB/s eta 0:00:01\r\u001b[K     |████████▌                       | 296 kB 13.5 MB/s eta 0:00:01\r\u001b[K     |████████▊                       | 307 kB 13.5 MB/s eta 0:00:01\r\u001b[K     |█████████                       | 317 kB 13.5 MB/s eta 0:00:01\r\u001b[K     |█████████▍                      | 327 kB 13.5 MB/s eta 0:00:01\r\u001b[K     |█████████▋                      | 337 kB 13.5 MB/s eta 0:00:01\r\u001b[K     |██████████                      | 348 kB 13.5 MB/s eta 0:00:01\r\u001b[K     |██████████▎                     | 358 kB 13.5 MB/s eta 0:00:01\r\u001b[K     |██████████▌                     | 368 kB 13.5 MB/s eta 0:00:01\r\u001b[K     |██████████▉                     | 378 kB 13.5 MB/s eta 0:00:01\r\u001b[K     |███████████                     | 389 kB 13.5 MB/s eta 0:00:01\r\u001b[K     |███████████▍                    | 399 kB 13.5 MB/s eta 0:00:01\r\u001b[K     |███████████▊                    | 409 kB 13.5 MB/s eta 0:00:01\r\u001b[K     |████████████                    | 419 kB 13.5 MB/s eta 0:00:01\r\u001b[K     |████████████▎                   | 430 kB 13.5 MB/s eta 0:00:01\r\u001b[K     |████████████▋                   | 440 kB 13.5 MB/s eta 0:00:01\r\u001b[K     |████████████▉                   | 450 kB 13.5 MB/s eta 0:00:01\r\u001b[K     |█████████████▏                  | 460 kB 13.5 MB/s eta 0:00:01\r\u001b[K     |█████████████▌                  | 471 kB 13.5 MB/s eta 0:00:01\r\u001b[K     |█████████████▊                  | 481 kB 13.5 MB/s eta 0:00:01\r\u001b[K     |██████████████                  | 491 kB 13.5 MB/s eta 0:00:01\r\u001b[K     |██████████████▎                 | 501 kB 13.5 MB/s eta 0:00:01\r\u001b[K     |██████████████▋                 | 512 kB 13.5 MB/s eta 0:00:01\r\u001b[K     |███████████████                 | 522 kB 13.5 MB/s eta 0:00:01\r\u001b[K     |███████████████▏                | 532 kB 13.5 MB/s eta 0:00:01\r\u001b[K     |███████████████▌                | 542 kB 13.5 MB/s eta 0:00:01\r\u001b[K     |███████████████▉                | 552 kB 13.5 MB/s eta 0:00:01\r\u001b[K     |████████████████                | 563 kB 13.5 MB/s eta 0:00:01\r\u001b[K     |████████████████▍               | 573 kB 13.5 MB/s eta 0:00:01\r\u001b[K     |████████████████▋               | 583 kB 13.5 MB/s eta 0:00:01\r\u001b[K     |█████████████████               | 593 kB 13.5 MB/s eta 0:00:01\r\u001b[K     |█████████████████▎              | 604 kB 13.5 MB/s eta 0:00:01\r\u001b[K     |█████████████████▌              | 614 kB 13.5 MB/s eta 0:00:01\r\u001b[K     |█████████████████▉              | 624 kB 13.5 MB/s eta 0:00:01\r\u001b[K     |██████████████████▏             | 634 kB 13.5 MB/s eta 0:00:01\r\u001b[K     |██████████████████▍             | 645 kB 13.5 MB/s eta 0:00:01\r\u001b[K     |██████████████████▊             | 655 kB 13.5 MB/s eta 0:00:01\r\u001b[K     |███████████████████             | 665 kB 13.5 MB/s eta 0:00:01\r\u001b[K     |███████████████████▎            | 675 kB 13.5 MB/s eta 0:00:01\r\u001b[K     |███████████████████▋            | 686 kB 13.5 MB/s eta 0:00:01\r\u001b[K     |███████████████████▉            | 696 kB 13.5 MB/s eta 0:00:01\r\u001b[K     |████████████████████▏           | 706 kB 13.5 MB/s eta 0:00:01\r\u001b[K     |████████████████████▌           | 716 kB 13.5 MB/s eta 0:00:01\r\u001b[K     |████████████████████▊           | 727 kB 13.5 MB/s eta 0:00:01\r\u001b[K     |█████████████████████           | 737 kB 13.5 MB/s eta 0:00:01\r\u001b[K     |█████████████████████▍          | 747 kB 13.5 MB/s eta 0:00:01\r\u001b[K     |█████████████████████▋          | 757 kB 13.5 MB/s eta 0:00:01\r\u001b[K     |██████████████████████          | 768 kB 13.5 MB/s eta 0:00:01\r\u001b[K     |██████████████████████▏         | 778 kB 13.5 MB/s eta 0:00:01\r\u001b[K     |██████████████████████▌         | 788 kB 13.5 MB/s eta 0:00:01\r\u001b[K     |██████████████████████▉         | 798 kB 13.5 MB/s eta 0:00:01\r\u001b[K     |███████████████████████         | 808 kB 13.5 MB/s eta 0:00:01\r\u001b[K     |███████████████████████▍        | 819 kB 13.5 MB/s eta 0:00:01\r\u001b[K     |███████████████████████▊        | 829 kB 13.5 MB/s eta 0:00:01\r\u001b[K     |████████████████████████        | 839 kB 13.5 MB/s eta 0:00:01\r\u001b[K     |████████████████████████▎       | 849 kB 13.5 MB/s eta 0:00:01\r\u001b[K     |████████████████████████▌       | 860 kB 13.5 MB/s eta 0:00:01\r\u001b[K     |████████████████████████▉       | 870 kB 13.5 MB/s eta 0:00:01\r\u001b[K     |█████████████████████████▏      | 880 kB 13.5 MB/s eta 0:00:01\r\u001b[K     |█████████████████████████▍      | 890 kB 13.5 MB/s eta 0:00:01\r\u001b[K     |█████████████████████████▊      | 901 kB 13.5 MB/s eta 0:00:01\r\u001b[K     |██████████████████████████      | 911 kB 13.5 MB/s eta 0:00:01\r\u001b[K     |██████████████████████████▎     | 921 kB 13.5 MB/s eta 0:00:01\r\u001b[K     |██████████████████████████▋     | 931 kB 13.5 MB/s eta 0:00:01\r\u001b[K     |███████████████████████████     | 942 kB 13.5 MB/s eta 0:00:01\r\u001b[K     |███████████████████████████▏    | 952 kB 13.5 MB/s eta 0:00:01\r\u001b[K     |███████████████████████████▌    | 962 kB 13.5 MB/s eta 0:00:01\r\u001b[K     |███████████████████████████▊    | 972 kB 13.5 MB/s eta 0:00:01\r\u001b[K     |████████████████████████████    | 983 kB 13.5 MB/s eta 0:00:01\r\u001b[K     |████████████████████████████▍   | 993 kB 13.5 MB/s eta 0:00:01\r\u001b[K     |████████████████████████████▋   | 1.0 MB 13.5 MB/s eta 0:00:01\r\u001b[K     |█████████████████████████████   | 1.0 MB 13.5 MB/s eta 0:00:01\r\u001b[K     |█████████████████████████████▎  | 1.0 MB 13.5 MB/s eta 0:00:01\r\u001b[K     |█████████████████████████████▌  | 1.0 MB 13.5 MB/s eta 0:00:01\r\u001b[K     |█████████████████████████████▉  | 1.0 MB 13.5 MB/s eta 0:00:01\r\u001b[K     |██████████████████████████████  | 1.1 MB 13.5 MB/s eta 0:00:01\r\u001b[K     |██████████████████████████████▍ | 1.1 MB 13.5 MB/s eta 0:00:01\r\u001b[K     |██████████████████████████████▊ | 1.1 MB 13.5 MB/s eta 0:00:01\r\u001b[K     |███████████████████████████████ | 1.1 MB 13.5 MB/s eta 0:00:01\r\u001b[K     |███████████████████████████████▎| 1.1 MB 13.5 MB/s eta 0:00:01\r\u001b[K     |███████████████████████████████▋| 1.1 MB 13.5 MB/s eta 0:00:01\r\u001b[K     |███████████████████████████████▉| 1.1 MB 13.5 MB/s eta 0:00:01\r\u001b[K     |████████████████████████████████| 1.1 MB 13.5 MB/s \n",
            "\u001b[?25hRequirement already satisfied: sortedcontainers>=1.5.7 in /usr/local/lib/python3.7/dist-packages (from scikit-multiflow) (2.4.0)\n",
            "Requirement already satisfied: pandas>=0.25.3 in /usr/local/lib/python3.7/dist-packages (from scikit-multiflow) (1.3.5)\n",
            "Requirement already satisfied: scikit-learn>=0.20 in /usr/local/lib/python3.7/dist-packages (from scikit-multiflow) (1.0.2)\n",
            "Requirement already satisfied: matplotlib>=2.0.0 in /usr/local/lib/python3.7/dist-packages (from scikit-multiflow) (3.2.2)\n",
            "Requirement already satisfied: numpy>=1.14.0 in /usr/local/lib/python3.7/dist-packages (from scikit-multiflow) (1.21.5)\n",
            "Requirement already satisfied: scipy>=1.0.0 in /usr/local/lib/python3.7/dist-packages (from scikit-multiflow) (1.4.1)\n",
            "Requirement already satisfied: python-dateutil>=2.1 in /usr/local/lib/python3.7/dist-packages (from matplotlib>=2.0.0->scikit-multiflow) (2.8.2)\n",
            "Requirement already satisfied: pyparsing!=2.0.4,!=2.1.2,!=2.1.6,>=2.0.1 in /usr/local/lib/python3.7/dist-packages (from matplotlib>=2.0.0->scikit-multiflow) (3.0.7)\n",
            "Requirement already satisfied: kiwisolver>=1.0.1 in /usr/local/lib/python3.7/dist-packages (from matplotlib>=2.0.0->scikit-multiflow) (1.3.2)\n",
            "Requirement already satisfied: cycler>=0.10 in /usr/local/lib/python3.7/dist-packages (from matplotlib>=2.0.0->scikit-multiflow) (0.11.0)\n",
            "Requirement already satisfied: pytz>=2017.3 in /usr/local/lib/python3.7/dist-packages (from pandas>=0.25.3->scikit-multiflow) (2018.9)\n",
            "Requirement already satisfied: six>=1.5 in /usr/local/lib/python3.7/dist-packages (from python-dateutil>=2.1->matplotlib>=2.0.0->scikit-multiflow) (1.15.0)\n",
            "Requirement already satisfied: threadpoolctl>=2.0.0 in /usr/local/lib/python3.7/dist-packages (from scikit-learn>=0.20->scikit-multiflow) (3.1.0)\n",
            "Requirement already satisfied: joblib>=0.11 in /usr/local/lib/python3.7/dist-packages (from scikit-learn>=0.20->scikit-multiflow) (1.1.0)\n",
            "Installing collected packages: scikit-multiflow\n",
            "Successfully installed scikit-multiflow-0.5.3\n"
          ]
        }
      ],
      "source": [
        "import numpy as np \n",
        "from matplotlib import pyplot as plt\n",
        "from sklearn.utils import shuffle\n",
        "from sklearn.linear_model import LogisticRegression\n",
        "\n",
        "!pip install -U scikit-multiflow"
      ]
    },
    {
      "cell_type": "markdown",
      "source": [
        "Imagine that we want to recommend a skincare product to our customers. In this simplified toy dataset, product A and product B will target customers of different ages. Specifically product A (e.g. anti-acne cream) targets younger people, whereas product B targets middle-age people (e.g. anti-aging cream). We will start by creating such dataset, and plotting the distribution of the age feature for each class. "
      ],
      "metadata": {
        "id": "uHH1UmXp05SL"
      }
    },
    {
      "cell_type": "code",
      "source": [
        "#Define the function to create the toy dataset. Each feature is a normal distribution.\n",
        "def create_synth_data(mu_A, mu_B, sig_A, sig_B, N=100, print_flag=False):\n",
        "  np.random.seed()\n",
        "  #skin product A mainly used by younger people\n",
        "  age_A = np.random.normal(mu_A, sig_A, [N, 1]) \n",
        "  #skin product B mainly used by older people\n",
        "  age_B = np.random.normal(mu_B, sig_B, [N, 1]) \n",
        "  \n",
        "  if print_flag: \n",
        "    plt.figure()\n",
        "    plt.hist(age_A, label='product A')\n",
        "    plt.hist(age_B, label='product B')\n",
        "    plt.xlabel('Age')\n",
        "    plt.ylabel('# customers')\n",
        "    plt.legend()\n",
        "\n",
        "  X = np.concatenate((age_A, age_B)) \n",
        "  y = np.concatenate((np.ones(N,), np.zeros(N,)))\n",
        "  X, y = shuffle(X, y)\n",
        "  return X, y \n",
        "\n",
        "#Create and visualize the artificial dataset with 1000 samples\n",
        "mu_A, sig_A = 25, 3\n",
        "mu_B, sig_B = 50, 5\n",
        "N = 1000\n",
        "X, y = create_synth_data(mu_A, mu_B, sig_A, sig_B, N, True)"
      ],
      "metadata": {
        "colab": {
          "base_uri": "https://localhost:8080/",
          "height": 279
        },
        "id": "lN27-3DalRaK",
        "outputId": "a75955c1-9b52-4966-877c-bd14516620e7"
      },
      "execution_count": null,
      "outputs": [
        {
          "output_type": "display_data",
          "data": {
            "image/png": "[encoded data removed]",
            "text/plain": [
              "<Figure size 432x288 with 1 Axes>"
            ]
          },
          "metadata": {
            "needs_background": "light"
          }
        }
      ]
    },
    {
      "cell_type": "markdown",
      "source": [
        "We can see that the product A is mostly used by younger customers, whereas product B is used by older customers. The number of people who purchase each product is normally distributed around the mean age. We will now fit a logistic regression on our data. \n",
        "\n",
        "\n"
      ],
      "metadata": {
        "id": "F7rK4NnWmucV"
      }
    },
    {
      "cell_type": "markdown",
      "source": [
        "## **Train logistic regression and monitor accuracy over time**\n"
      ],
      "metadata": {
        "id": "TAO-zYGOorP8"
      }
    },
    {
      "cell_type": "code",
      "execution_count": null,
      "metadata": {
        "colab": {
          "base_uri": "https://localhost:8080/"
        },
        "id": "2AMJ0AsNVjG5",
        "outputId": "50dae7d3-d543-4c3f-91f7-fffa905eb437"
      },
      "outputs": [
        {
          "output_type": "stream",
          "name": "stdout",
          "text": [
            "Accuracy on test set: 100.0%\n"
          ]
        }
      ],
      "source": [
        "#Train logistic regression \n",
        "clf = LogisticRegression(random_state=0).fit(X, y)\n",
        "\n",
        "#Create test set \n",
        "N_test = 500\n",
        "X_test, y_test = create_synth_data(mu_A, mu_B, sig_A, sig_B, N_test, False)\n",
        "#Display score\n",
        "accuracy_test = clf.score(X_test, y_test)\n",
        "print(\"Accuracy on test set: {}%\".format(accuracy_test * 100))"
      ]
    },
    {
      "cell_type": "markdown",
      "source": [
        "As expected, our logistic regression performs extremely well. This is a very simple task, where the means of the two normal distribution are separate enough that out classifier can easily disambiguate between them.  "
      ],
      "metadata": {
        "id": "QJqFSyGfoDCH"
      }
    },
    {
      "cell_type": "code",
      "execution_count": null,
      "metadata": {
        "colab": {
          "base_uri": "https://localhost:8080/",
          "height": 297
        },
        "id": "_WLSpFBKXRW5",
        "outputId": "6436095b-91c6-42b5-d743-245bcabab7e1"
      },
      "outputs": [
        {
          "output_type": "execute_result",
          "data": {
            "text/plain": [
              "Text(0, 0.5, 'accuracy')"
            ]
          },
          "metadata": {},
          "execution_count": 4
        },
        {
          "output_type": "display_data",
          "data": {
            "image/png": "[encoded data removed]",
            "text/plain": [
              "<Figure size 432x288 with 1 Axes>"
            ]
          },
          "metadata": {
            "needs_background": "light"
          }
        }
      ],
      "source": [
        "#Apply logistic regression to new incoming data over a time T\n",
        "T = 100\n",
        "\n",
        "#Initialize the performance vector\n",
        "perf = np.zeros(T)\n",
        "\n",
        "for i in range(T):\n",
        "  N = 100\n",
        "  Xnew, ynew = create_synth_data(mu_A, mu_B, sig_A, sig_B, N)\n",
        "  perf[i] = clf.score(Xnew, ynew)\n",
        "\n",
        "#Plot performance over time \n",
        "plt.figure()\n",
        "plt.plot(perf)\n",
        "plt.ylim(0.5,1.05)\n",
        "plt.xlabel('time')\n",
        "plt.ylabel('accuracy')\n"
      ]
    },
    {
      "cell_type": "markdown",
      "source": [
        "We now imagine that our model receives a new incoming stream of data, to be classified at each timestep. Since the new data comes from the original distribution, the model's performance is stable over time."
      ],
      "metadata": {
        "id": "7zmMevzxs9Na"
      }
    },
    {
      "cell_type": "markdown",
      "source": [
        "## **Introduce concept drift**\n"
      ],
      "metadata": {
        "id": "nSgnT9V7tx3Z"
      }
    },
    {
      "cell_type": "markdown",
      "source": [
        "We will now introduce concept drift. Let's assume that some advertisment is made such that product B, orignally meant for an older demographic, becomes popular amongst younger customers as well. This change will alter the relationship between the target variable y and the input data X, as such it is an example of *concept shift*. "
      ],
      "metadata": {
        "id": "dmWQ_-K-vMy4"
      }
    },
    {
      "cell_type": "code",
      "source": [
        "#@title Slide and run the cell to see how the distribution changes over time\n",
        "time = 100 #@param {type:\"slider\", min:0, max:100, step:1}\n",
        "mu_B_new = 35\n",
        "M = 500\n",
        "X1, y1 = create_synth_data(mu_A, mu_B + (mu_B_new - mu_B)/T*time, sig_A, sig_B, M, True)"
      ],
      "metadata": {
        "colab": {
          "base_uri": "https://localhost:8080/",
          "height": 279
        },
        "id": "X_6HtzJlwMCf",
        "outputId": "d1d05cd5-0c48-4ede-e79e-1d32041f519d"
      },
      "execution_count": null,
      "outputs": [
        {
          "output_type": "display_data",
          "data": {
            "image/png": "[encoded data removed]",
            "text/plain": [
              "<Figure size 432x288 with 1 Axes>"
            ]
          },
          "metadata": {
            "needs_background": "light"
          }
        }
      ]
    },
    {
      "cell_type": "markdown",
      "source": [
        "We model this shift as a gradual change in the mean of the distribution of product B over a total time T. That is, the mean age of product B customers will gradually move from 50 to 35 . You can visualize how the data changes over time by moving the slider and re-running the code."
      ],
      "metadata": {
        "id": "VO2xSVFmzzYS"
      }
    },
    {
      "cell_type": "markdown",
      "source": [
        "## **Monitor relevant statistics to detect dataset shift**\n",
        "\n",
        "\n",
        "---\n",
        "\n",
        "\n",
        "*Performance, classification confidence and sample mean*"
      ],
      "metadata": {
        "id": "cMrxr_aSzh3i"
      }
    },
    {
      "cell_type": "markdown",
      "source": [
        "As mentioned in the documentation, monitoring statistics of your model and data can be a very effective way to detect dataset shift."
      ],
      "metadata": {
        "id": "MDK1rMDq_Vxr"
      }
    },
    {
      "cell_type": "code",
      "execution_count": null,
      "metadata": {
        "id": "WBgoN8sE_01E"
      },
      "outputs": [],
      "source": [
        "#Define new mean age for product B\n",
        "mu_B_new = 35\n",
        "\n",
        "#Initialize the variables to monitor \n",
        "perf = np.zeros(T)\n",
        "prob_A, prob_B = np.zeros(T), np.zeros(T)\n",
        "sample_mean, sample_mean_A, sample_mean_B = np.zeros(T), np.zeros(T), np.zeros(T)\n",
        "\n",
        "for i in range(T):\n",
        "  #Define mean at timestep i\n",
        "  mu_i = mu_B + (mu_B_new - mu_B)/T*i \n",
        "  Xnew, ynew = create_synth_data(mu_A,  mu_i, sig_A, sig_B, N)\n",
        "  \n",
        "  #Monitor performance \n",
        "  perf[i] = clf.score(Xnew, ynew)\n",
        "\n",
        "  #Monitor classification confidence for each class\n",
        "  ynew_hat = clf.predict(Xnew)\n",
        "  Xnew_A, Xnew_B = Xnew[ynew == 1], Xnew[ynew == 0]\n",
        "  prob_A[i], prob_B[i] = clf.predict_proba(Xnew_A).mean(axis=0)[1], clf.predict_proba(Xnew_B).mean(axis=0)[0]\n",
        "\n",
        "  #Monitor the mean age of the new data \n",
        "  sample_mean[i] = Xnew.mean()\n",
        "  #Monitor the mean age for each class\n",
        "  sample_mean_A[i], sample_mean_B[i] = Xnew[ynew==1].mean(), Xnew[ynew==0].mean()"
      ]
    },
    {
      "cell_type": "code",
      "source": [
        "#@title Accuracy decreases over time\n",
        "#Plot accuracy over time\n",
        "plt.figure()\n",
        "plt.plot(perf)\n",
        "plt.ylim(0.5,1.05)\n",
        "plt.xlabel('time')\n",
        "plt.ylabel('accuracy')"
      ],
      "metadata": {
        "colab": {
          "base_uri": "https://localhost:8080/",
          "height": 297
        },
        "cellView": "code",
        "id": "IR2t-_yr9FR8",
        "outputId": "7e9feba1-bb31-49c4-8f7e-c821fb4b0ef0"
      },
      "execution_count": null,
      "outputs": [
        {
          "output_type": "execute_result",
          "data": {
            "text/plain": [
              "Text(0, 0.5, 'accuracy')"
            ]
          },
          "metadata": {},
          "execution_count": 10
        },
        {
          "output_type": "display_data",
          "data": {
            "image/png": "[encoded data removed]",
            "text/plain": [
              "<Figure size 432x288 with 1 Axes>"
            ]
          },
          "metadata": {
            "needs_background": "light"
          }
        }
      ]
    },
    {
      "cell_type": "markdown",
      "source": [
        "We can see that the accuracy of our model decreases over time. This is the most worrying and most telling sign of dataset shift. It is important to always monitor the performance of the algorithm. Besides plotting, we could have an alert system that automatically triggers a warning or starts retraining if accuracy falls under a certain threshold."
      ],
      "metadata": {
        "id": "6Eng_sDb_hT1"
      }
    },
    {
      "cell_type": "code",
      "source": [
        "#@title Classification confidence for product B decreases over time \n",
        "plt.figure()\n",
        "plt.plot(prob_A, label='product A')\n",
        "plt.plot(prob_B, label='product B')\n",
        "plt.xlabel('time')\n",
        "plt.ylabel('classification confidence')\n",
        "plt.legend()"
      ],
      "metadata": {
        "colab": {
          "base_uri": "https://localhost:8080/",
          "height": 297
        },
        "cellView": "form",
        "id": "kF4tbwUI9dZb",
        "outputId": "0f215bd0-b0f4-405f-e38e-437775a75353"
      },
      "execution_count": null,
      "outputs": [
        {
          "output_type": "execute_result",
          "data": {
            "text/plain": [
              "<matplotlib.legend.Legend at 0x7ff26e341bd0>"
            ]
          },
          "metadata": {},
          "execution_count": 161
        },
        {
          "output_type": "display_data",
          "data": {
            "image/png": "[encoded data removed]",
            "text/plain": [
              "<Figure size 432x288 with 1 Axes>"
            ]
          },
          "metadata": {
            "needs_background": "light"
          }
        }
      ]
    },
    {
      "cell_type": "markdown",
      "source": [
        "Another variable that we could monitor is the classification confidence of the model. Here, we can clearly see that the model is confident about recommending product A, but the confidence for product B decays over time. This is a clear indication of dataset shift. "
      ],
      "metadata": {
        "id": "MKjKMdByAM2Y"
      }
    },
    {
      "cell_type": "code",
      "source": [
        "#@title The mean age for product B decrease over time\n",
        "plt.figure()\n",
        "plt.plot(sample_mean_A, label='product A')\n",
        "plt.plot(sample_mean_B, label='product B')\n",
        "plt.plot(sample_mean, label='both products')\n",
        "plt.xlabel('time')\n",
        "plt.ylabel('mean age')\n",
        "plt.legend()"
      ],
      "metadata": {
        "colab": {
          "base_uri": "https://localhost:8080/",
          "height": 297
        },
        "cellView": "form",
        "id": "Pb1h5zG6-uiE",
        "outputId": "8511977e-720e-4963-e98a-0ea0fe47f98a"
      },
      "execution_count": null,
      "outputs": [
        {
          "output_type": "execute_result",
          "data": {
            "text/plain": [
              "<matplotlib.legend.Legend at 0x7ff26ea94b90>"
            ]
          },
          "metadata": {},
          "execution_count": 163
        },
        {
          "output_type": "display_data",
          "data": {
            "image/png": "[encoded data removed]",
            "text/plain": [
              "<Figure size 432x288 with 1 Axes>"
            ]
          },
          "metadata": {
            "needs_background": "light"
          }
        }
      ]
    },
    {
      "cell_type": "markdown",
      "source": [
        "Finally, we could consider monitoring statistical properties of the input data itself. Here, we look at the overall sample mean (green line) where we can notice that the overall age of our customer is decreasing. We could decide to then examine the average age for each product. Since the mean age for product A seems to be stable, we would immediately find out that the culprit of our shift lies in the distribution of product B customers. "
      ],
      "metadata": {
        "id": "FJxTh9PFAk9z"
      }
    },
    {
      "cell_type": "markdown",
      "source": [
        "## **Statistical tests to compare the old and new data distributions**\n",
        "\n",
        "\n",
        "---\n",
        "*Histogram intersection,  Population Stability Index, Kolmogorov-Smirnov statistic*"
      ],
      "metadata": {
        "id": "69UHUe9M0HLY"
      }
    },
    {
      "cell_type": "markdown",
      "source": [
        "As mentioned in the documentation, comparing the distributions of the old and new data, can be effective to detect dataset shift.\n"
      ],
      "metadata": {
        "id": "wmi7pV3FCUCX"
      }
    },
    {
      "cell_type": "code",
      "source": [
        "#Sample a new dataset of the same size of the old one\n",
        "N = 1000\n",
        "Xnew, ynew = create_synth_data(mu_A,  mu_B_new, sig_A, sig_B, N)"
      ],
      "metadata": {
        "id": "bsDn1onHGasg"
      },
      "execution_count": null,
      "outputs": []
    },
    {
      "cell_type": "markdown",
      "source": [
        "### Histogram intersection "
      ],
      "metadata": {
        "id": "Fusiody8FvYI"
      }
    },
    {
      "cell_type": "code",
      "execution_count": null,
      "metadata": {
        "id": "UiauHQbEqsCb"
      },
      "outputs": [],
      "source": [
        "#Define a function that calculates the intersection between the histogram of the old and the new data \n",
        "def histogram_intersection(h1, h2, bins):\n",
        "  #Normalize histograms \n",
        "  dx = np.diff(bins)\n",
        "  A_h1 = np.sum(dx*h1)\n",
        "  A_h2 = np.sum(dx*h2)\n",
        "  h1 = h1/A_h1\n",
        "  h2 = h2/A_h2\n",
        "  \n",
        "  #Calculate histogram intersection \n",
        "  HI = np.sum(np.minimum(dx*h1, dx*h2))\n",
        "  return HI"
      ]
    },
    {
      "cell_type": "code",
      "execution_count": null,
      "metadata": {
        "colab": {
          "base_uri": "https://localhost:8080/",
          "height": 297
        },
        "id": "y3CQzGFiqj0L",
        "outputId": "836502d2-3cd7-4462-af38-941512e40808"
      },
      "outputs": [
        {
          "output_type": "stream",
          "name": "stdout",
          "text": [
            "The Histogram Intersection is: 59.95%\n"
          ]
        },
        {
          "output_type": "display_data",
          "data": {
            "image/png": "[encoded data removed]",
            "text/plain": [
              "<Figure size 432x288 with 1 Axes>"
            ]
          },
          "metadata": {
            "needs_background": "light"
          }
        }
      ],
      "source": [
        "#Calculate histogram intersection \n",
        "nbins = 20\n",
        "h1, bins, _ = plt.hist(X, nbins, label='Old data')\n",
        "h2, bins, _ = plt.hist(Xnew, nbins, label='New data')\n",
        "plt.xlabel('Age')\n",
        "plt.ylabel('# customers')\n",
        "plt.legend()\n",
        "\n",
        "HI = histogram_intersection(h1, h2, bins)\n",
        "print(\"The Histogram Intersection is: {}%\".format(HI * 100))"
      ]
    },
    {
      "cell_type": "markdown",
      "source": [
        "It is clear from visual inspection that the two histograms are widely different. The HI statistic allows us to quantify the shift observed in the data, indicating that only approximately 60% of the data overlaps. \n",
        "\n",
        "Please note that this intuitive statistics is appropriate for relatively simple cases and it may be difficult to quantify for higher-dimensional datasets."
      ],
      "metadata": {
        "id": "dEfwzxSEEAwE"
      }
    },
    {
      "cell_type": "markdown",
      "source": [
        "### Population Stability Index "
      ],
      "metadata": {
        "id": "w0x5fo8NGJEZ"
      }
    },
    {
      "cell_type": "code",
      "source": [
        "#Define a function that calculates the PSI\n",
        "def population_stability_index(h1, h2):\n",
        "  #Normalize histograms \n",
        "  dx = np.diff(bins)\n",
        "  A_h1 = np.sum(dx*h1)\n",
        "  A_h2 = np.sum(dx*h2)\n",
        "  h1 = h1/A_h1\n",
        "  h2 = h2/A_h2\n",
        "\n",
        "  #Handle possible underflow\n",
        "  eps = 0.0001\n",
        "  h1[h1 < eps] = eps\n",
        "  h2[h2 < eps] = eps\n",
        "\n",
        "  #Calculate PSI\n",
        "  PSI = np.sum((h2 - h1)*np.log(h2/h1))\n",
        "  return PSI"
      ],
      "metadata": {
        "id": "Vx7-olNrQafQ"
      },
      "execution_count": null,
      "outputs": []
    },
    {
      "cell_type": "code",
      "source": [
        "#Calculate PSI \n",
        "PSI = population_stability_index(h2, h1)\n",
        "print(\"The Population Stability Index is: {}\".format(PSI))"
      ],
      "metadata": {
        "colab": {
          "base_uri": "https://localhost:8080/"
        },
        "id": "vF-r-s_xAifL",
        "outputId": "43b6907c-6d8a-4ebd-d324-a14d5e907c41"
      },
      "execution_count": null,
      "outputs": [
        {
          "output_type": "stream",
          "name": "stdout",
          "text": [
            "The Population Statistics Index is: 0.8303797748940678\n"
          ]
        }
      ]
    },
    {
      "cell_type": "markdown",
      "source": [
        "The population statistics index measures how much a variable has shifted over time. These are the usual values: \n",
        "*   PSI < 0.1: no significant population change\n",
        "*  PSI < 0.2: moderate population change\n",
        "*   PSI >= 0.2: significant population change\n",
        "\n",
        "In our case, the PSI is strong evidence that a shift in the data has happened. "
      ],
      "metadata": {
        "id": "OAUWOaYCIXUS"
      }
    },
    {
      "cell_type": "markdown",
      "source": [
        "### Kolmogorov-Smirnov test"
      ],
      "metadata": {
        "id": "eH2A2twCGDgO"
      }
    },
    {
      "cell_type": "code",
      "execution_count": null,
      "metadata": {
        "colab": {
          "base_uri": "https://localhost:8080/"
        },
        "id": "9Y28Ak0BRMUo",
        "outputId": "29e2487e-a9b0-44e7-d5ca-e2023c933f09"
      },
      "outputs": [
        {
          "output_type": "stream",
          "name": "stdout",
          "text": [
            "The Kolmogorov-Smirnov test rejects the null hypothesis with a p-value: 1.2067197058552138e-180%\n"
          ]
        }
      ],
      "source": [
        "#Import the stats modul from scipy \n",
        "from scipy import stats\n",
        "#Perform the KS test\n",
        "KS = stats.ks_2samp(X.squeeze(), Xnew.squeeze())\n",
        "print(\"The Kolmogorov-Smirnov test rejects the null hypothesis with a p-value: {}%\".format(KS.pvalue))"
      ]
    },
    {
      "cell_type": "markdown",
      "source": [
        "The test strongly rejects the hypothesis that these data comes from the same distribution. As such, it is a strong warning that there has been a dataset shift. "
      ],
      "metadata": {
        "id": "d-f5SKp1G_ck"
      }
    },
    {
      "cell_type": "markdown",
      "source": [
        "## **Detect concept drift with ADWIN and retrain model**"
      ],
      "metadata": {
        "id": "PoTwMpw24FFQ"
      }
    },
    {
      "cell_type": "code",
      "source": [
        "from skmultiflow.drift_detection.adwin import ADWIN\n",
        "adwin = ADWIN()\n",
        "\n",
        "#Initialize variables\n",
        "T = 1000\n",
        "perf, perf_retrain = np.zeros((T)), np.zeros((T))\n",
        "index_change = []\n",
        "\n",
        "#Fit a new logistic regression that we will retrain (keep the old one as baseline)\n",
        "clf_retrain = LogisticRegression(random_state=0).fit(X, y)\n",
        "\n",
        "for i in range(T):\n",
        "  #Mumber of samples at each timestep\n",
        "  N = 150\n",
        "  \n",
        "  #Define mean at timestep i\n",
        "  mu_i = mu_B + (mu_B_new - mu_B)/T*i \n",
        "  Xnew, ynew = create_synth_data(mu_A,  mu_i, sig_A, sig_B, N)\n",
        "  \n",
        "  #Store performance\n",
        "  perf[i], perf_retrain[i]  = clf.score(Xnew, ynew), clf_retrain.score(Xnew, ynew)\n",
        "\n",
        "  #Add each sample to ADWIN \n",
        "  for j in range(N*2):\n",
        "    adwin.add_element(Xnew[j].squeeze())\n",
        "\n",
        "  #Check if ADWIN detects a change in the distribution at timestep i\n",
        "  if adwin.detected_change():\n",
        "    #Store indices where change is detected\n",
        "    index_change.append(i)\n",
        "    #If change detected, retrain\n",
        "    clf_retrain.fit(Xnew, ynew)"
      ],
      "metadata": {
        "id": "-onXXTFf3_GI"
      },
      "execution_count": null,
      "outputs": []
    },
    {
      "cell_type": "code",
      "source": [
        "plt.figure()\n",
        "plt.plot(perf, label='No further training')\n",
        "plt.plot(perf_retrain, label='With retraining')\n",
        "plt.xlabel('time')\n",
        "plt.ylabel('accuracy')\n",
        "plt.legend()\n",
        "\n",
        "print(\"ADWIN detected changes in the data, and the model was retrained, at timesteps: {}\".format(index_change))\n"
      ],
      "metadata": {
        "colab": {
          "base_uri": "https://localhost:8080/",
          "height": 297
        },
        "id": "859d9_XcLwG1",
        "outputId": "af4f72fc-ac9c-4a85-e7a1-901a6893fa64"
      },
      "execution_count": null,
      "outputs": [
        {
          "output_type": "stream",
          "name": "stdout",
          "text": [
            "ADWIN detected changes in the data, and the model was retrained, at timesteps: [191, 223, 255, 319, 351, 383, 415, 447, 479, 511, 543, 575, 607, 639, 671, 703, 735, 767, 799, 831, 863, 895, 927, 959, 991]\n"
          ]
        },
        {
          "output_type": "display_data",
          "data": {
            "image/png": "[encoded data removed]",
            "text/plain": [
              "<Figure size 432x288 with 1 Axes>"
            ]
          },
          "metadata": {
            "needs_background": "light"
          }
        }
      ]
    },
    {
      "cell_type": "markdown",
      "source": [
        "[ADWIN](https://scikit-multiflow.readthedocs.io/en/stable/api/generated/skmultiflow.drift_detection.ADWIN.html) is able to detect changes in the data by comparing successive time windows. Whenever this happens, retraining is triggered. We can see that the model with retraining clearly outperforms the original model. \n",
        "\n",
        "It is important to notice that the new task is much harder than the original task, i.e. the mean ages of the two groups are now closer and therefore more difficult to differentiate. As such, we should not be discouraged when seeing that the performance of our model isn't as good as it was at time 0.  "
      ],
      "metadata": {
        "id": "dctDOJ0hM6Tl"
      }
    }
  ],
  "metadata": {
    "colab": {
      "name": "Dataset shift.ipynb",
      "provenance": []
    },
    "kernelspec": {
      "display_name": "Python 3",
      "name": "python3"
    },
    "language_info": {
      "name": "python"
    }
  },
  "nbformat": 4,
  "nbformat_minor": 0
}