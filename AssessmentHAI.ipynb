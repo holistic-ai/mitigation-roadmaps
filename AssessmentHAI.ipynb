{
  "nbformat": 4,
  "nbformat_minor": 0,
  "metadata": {
    "colab": {
      "name": "AssessmentHAI.ipynb",
      "provenance": [],
      "collapsed_sections": [
        "-nYt5_h77QGN",
        "2b-UuCXc79U1",
        "67rZSU6hDQwj",
        "QabzuO7TI43r",
        "RU4xvzSuMBRf",
        "7v5PQTdLcpo5",
        "u253OROG_dyz"
      ]
    },
    "kernelspec": {
      "display_name": "Python 3",
      "language": "python",
      "name": "python3"
    },
    "language_info": {
      "codemirror_mode": {
        "name": "ipython",
        "version": 3
      },
      "file_extension": ".py",
      "mimetype": "text/x-python",
      "name": "python",
      "nbconvert_exporter": "python",
      "pygments_lexer": "ipython3",
      "version": "3.8.8"
    }
  },
  "cells": [
    {
      "cell_type": "markdown",
      "metadata": {
        "id": "RMuRYKtj4SHR"
      },
      "source": [
        "#  Holistic AI - Data Science assessment\n"
      ]
    },
    {
      "cell_type": "markdown",
      "metadata": {
        "id": "0v83HDaM4g99"
      },
      "source": [
        "In Machine Learning, we say that an algorithm is biased if it is systematically disadvantageous to a group of people. For example, we could say that a recruitment algorithm was biased if it presented a higher success rate for male candidates rather than female candidates. \n",
        "\n"
      ]
    },
    {
      "cell_type": "markdown",
      "source": [
        "In this assessment, we will ask you to build a model for recruitment, which predicts whether a candidate can be hired or not. We will provide you with a dataset composed of N samples (rows) and 503 variables (columns). The columns are: \n",
        "* a binary target variable ('Label'), which indicates whether the candidate was hired or not\n",
        "* 500 different features, which will be used to fit a predictive model of your choice\n",
        "* the Ethnicity and Gender of the candidates, which we will use to estimate bias in the dataset and in the algorithm. \n",
        "\n"
      ],
      "metadata": {
        "id": "FoN84gAP8dB3"
      }
    },
    {
      "cell_type": "markdown",
      "source": [
        "We will ask you to: \n",
        "1. Explore and pre-process the data\n",
        "2. Calculate the success rate in the dataset\n",
        "3. Fit a machine learning model to the data and calculate its generalization performance\n",
        "4. Calculate a simple measure of model bias. "
      ],
      "metadata": {
        "id": "Vdi9pZbH8pLM"
      }
    },
    {
      "cell_type": "markdown",
      "metadata": {
        "id": "-nYt5_h77QGN"
      },
      "source": [
        "## **1 - Data exploration and pre-processing**"
      ]
    },
    {
      "cell_type": "code",
      "metadata": {
        "id": "KgfZWXdy1REj",
        "colab": {
          "base_uri": "https://localhost:8080/"
        },
        "outputId": "2f91983d-9acf-4e91-ef50-5a42dc6e938c"
      },
      "source": [
        "#imports \n",
        "import numpy as np\n",
        "import pandas as pd\n",
        "import matplotlib.pyplot as plt\n",
        "!pip3 install pickle5\n",
        "import pickle5 as pickle\n"
      ],
      "execution_count": null,
      "outputs": [
        {
          "output_type": "stream",
          "name": "stdout",
          "text": [
            "Collecting pickle5\n",
            "  Downloading pickle5-0.0.12-cp37-cp37m-manylinux_2_5_x86_64.manylinux1_x86_64.whl (256 kB)\n",
            "\u001b[?25l\r\u001b[K     |█▎                              | 10 kB 24.0 MB/s eta 0:00:01\r\u001b[K     |██▋                             | 20 kB 15.2 MB/s eta 0:00:01\r\u001b[K     |███▉                            | 30 kB 9.8 MB/s eta 0:00:01\r\u001b[K     |█████▏                          | 40 kB 8.8 MB/s eta 0:00:01\r\u001b[K     |██████▍                         | 51 kB 4.5 MB/s eta 0:00:01\r\u001b[K     |███████▊                        | 61 kB 5.3 MB/s eta 0:00:01\r\u001b[K     |█████████                       | 71 kB 5.6 MB/s eta 0:00:01\r\u001b[K     |██████████▎                     | 81 kB 5.7 MB/s eta 0:00:01\r\u001b[K     |███████████▌                    | 92 kB 6.4 MB/s eta 0:00:01\r\u001b[K     |████████████▉                   | 102 kB 5.1 MB/s eta 0:00:01\r\u001b[K     |██████████████                  | 112 kB 5.1 MB/s eta 0:00:01\r\u001b[K     |███████████████▍                | 122 kB 5.1 MB/s eta 0:00:01\r\u001b[K     |████████████████▋               | 133 kB 5.1 MB/s eta 0:00:01\r\u001b[K     |██████████████████              | 143 kB 5.1 MB/s eta 0:00:01\r\u001b[K     |███████████████████▏            | 153 kB 5.1 MB/s eta 0:00:01\r\u001b[K     |████████████████████▌           | 163 kB 5.1 MB/s eta 0:00:01\r\u001b[K     |█████████████████████▊          | 174 kB 5.1 MB/s eta 0:00:01\r\u001b[K     |███████████████████████         | 184 kB 5.1 MB/s eta 0:00:01\r\u001b[K     |████████████████████████▎       | 194 kB 5.1 MB/s eta 0:00:01\r\u001b[K     |█████████████████████████▋      | 204 kB 5.1 MB/s eta 0:00:01\r\u001b[K     |██████████████████████████▉     | 215 kB 5.1 MB/s eta 0:00:01\r\u001b[K     |████████████████████████████▏   | 225 kB 5.1 MB/s eta 0:00:01\r\u001b[K     |█████████████████████████████▍  | 235 kB 5.1 MB/s eta 0:00:01\r\u001b[K     |██████████████████████████████▊ | 245 kB 5.1 MB/s eta 0:00:01\r\u001b[K     |████████████████████████████████| 256 kB 5.1 MB/s eta 0:00:01\r\u001b[K     |████████████████████████████████| 256 kB 5.1 MB/s \n",
            "\u001b[?25hInstalling collected packages: pickle5\n",
            "Successfully installed pickle5-0.0.12\n"
          ]
        }
      ]
    },
    {
      "cell_type": "markdown",
      "source": [
        "Please download the data from the following link: https://hai-data.s3.eu-west-2.amazonaws.com/roadmaps/data.pickle. If running in Colab, please upload the data to the local folder. Otherwise, place the data in the same folder as the notebook. Load the data into a dataframe using pickle and then transform it into a pandas dataframe. "
      ],
      "metadata": {
        "id": "8FBYQFTYVTmt"
      }
    },
    {
      "cell_type": "code",
      "source": [
        "## TO DO: Load the data\n",
        "\n",
        "## /TO DO"
      ],
      "metadata": {
        "id": "e2qUvNxLSoXH"
      },
      "execution_count": null,
      "outputs": []
    },
    {
      "cell_type": "markdown",
      "source": [
        "Please feel free to do any type of data exploration and pre-processing here (e.g. have you checked for missing values? Is the dataset balanced?)\n"
      ],
      "metadata": {
        "id": "AMSKRTn6W7Sq"
      }
    },
    {
      "cell_type": "code",
      "source": [
        "## TO DO: Data exploration / Pre-processing \n",
        "## /TO DO"
      ],
      "metadata": {
        "id": "CutDfkIhTIyS"
      },
      "execution_count": null,
      "outputs": []
    },
    {
      "cell_type": "markdown",
      "source": [
        "## **2. Bias in the data**\n",
        "\n"
      ],
      "metadata": {
        "id": "KI5L36a33Zlj"
      }
    },
    {
      "cell_type": "markdown",
      "source": [
        "Algorithmic bias can be a result of bias in the data. Please check for bias in the data by calculating and displaying the proportion of successful candidates (success rate) in each group. Do it for both Gender (Female/Male) and Ethnicity (Asian/Black/Hispanic/White). \n",
        "\n",
        "For a group $g$:\n",
        "$$sr_g=\\frac{\\text{Number of successful outcomes in } g}{\\text{Number of individuals in } g}$$\n",
        "\n",
        "\n",
        "\\\\\n",
        "\n",
        "If we use this data for training, can you guess which groups the model will be biased against?\n"
      ],
      "metadata": {
        "id": "mHl972nq9KmV"
      }
    },
    {
      "cell_type": "code",
      "source": [
        "## TO DO: Calculate success rates for each group  \n",
        "## /TO DO"
      ],
      "metadata": {
        "id": "xgm7iwSOTO34"
      },
      "execution_count": null,
      "outputs": []
    },
    {
      "cell_type": "markdown",
      "metadata": {
        "id": "67rZSU6hDQwj"
      },
      "source": [
        "## **3. Model fitting**"
      ]
    },
    {
      "cell_type": "markdown",
      "source": [
        "Fit a model of your choice to the data. Please note: \n",
        "1. We do not want to hire people based on gender and ethnicity, so do **not** include these features when training the model. \n",
        "2.  You should calculate and print the performance of the model in terms of accuracy, precision and recall. \n",
        "3. Make sure to evaluate the **generalization** performance of the model.\n",
        "4. Do not worry too much about the performance of the model (for reference, an accuracy of 0.7 is a good value)"
      ],
      "metadata": {
        "id": "huxcOC2MtJfj"
      }
    },
    {
      "cell_type": "code",
      "source": [
        "## TO DO: Fit the model and display performance \n",
        "## /TO DO"
      ],
      "metadata": {
        "id": "w2ma3vG2Tgjc"
      },
      "execution_count": null,
      "outputs": []
    },
    {
      "cell_type": "markdown",
      "source": [
        "## **4. Bias in the model** "
      ],
      "metadata": {
        "id": "0IONAD8p80-s"
      }
    },
    {
      "cell_type": "markdown",
      "source": [
        "In order to check if the model is biased we need to compare the success rate in the unprivileged group with the success rate with the privileged group (e.g. Female/Male, Black/White, Asian/White, ...). \n",
        "\n",
        "For a group $g$:\n",
        "$$sr_g=\\frac{\\text{Number of successful outcomes in } g}{\\text{Number of individuals in } g}$$\n",
        "\n",
        "\n",
        "\n"
      ],
      "metadata": {
        "id": "IcMXvaa39RwC"
      }
    },
    {
      "cell_type": "markdown",
      "source": [
        "We can compare these success rates by taking the ratio (Disparate Impact) or subtracting them (Statistical Parity). If we call the unprivileged group $u$, and the privileged group $p$, we have:\n",
        "\n",
        "$Disparate\\ impact=\\frac{sr_u}{sr_p}$, with reference value 1. \n",
        "\n",
        "$Statistical\\ parity=sr_u - sr_p$, with reference value 0.\n",
        "\n"
      ],
      "metadata": {
        "id": "YLo1Sb3rRFBM"
      }
    },
    {
      "cell_type": "markdown",
      "source": [
        "Take any unpriviledged group and compare it to a priviledged one. Calculate and print the Disparate Impact and Statistical Parity metrics. Is the model biased? Please make sure to evaluate how the model performs on unseen data."
      ],
      "metadata": {
        "id": "dXJ5qPVq9tcA"
      }
    },
    {
      "cell_type": "code",
      "source": [
        "## TO DO: Calculate and display disparate impact and statistical parity for a group of your choice\n",
        "## /TO DO"
      ],
      "metadata": {
        "id": "mJkP1XGGToJm"
      },
      "execution_count": null,
      "outputs": []
    }
  ]
}