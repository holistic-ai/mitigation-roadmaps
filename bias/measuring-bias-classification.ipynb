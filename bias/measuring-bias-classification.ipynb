{
  "nbformat": 4,
  "nbformat_minor": 0,
  "metadata": {
    "colab": {
      "name": "Measuring Bias ",
      "provenance": [],
      "collapsed_sections": [
        "f6hoB7SDMGnm",
        "GV7HUVoiKE0T",
        "yq0-K1xSKaNy"
      ]
    },
    "kernelspec": {
      "display_name": "Python 3",
      "language": "python",
      "name": "python3"
    },
    "language_info": {
      "codemirror_mode": {
        "name": "ipython",
        "version": 3
      },
      "file_extension": ".py",
      "mimetype": "text/x-python",
      "name": "python",
      "nbconvert_exporter": "python",
      "pygments_lexer": "ipython3",
      "version": "3.8.8"
    }
  },
  "cells": [
    {
      "cell_type": "markdown",
      "source": [
        "# **Measuring Bias with the aif360 library**\n"
      ],
      "metadata": {
        "id": "pFKF6N69kCay"
      }
    },
    {
      "cell_type": "markdown",
      "source": [
        "In order to make sure that your algorithm treats everyone equally, it is important to measure the bias. Here, we will illustrate how to measure bias in a binary classification context. \n",
        "\n",
        "Let's imagine that a company is looking to hire a new employee. They use a machine learning algorithm to select the top candidates. The candidates are assigned either 0 if they are not selected or 1 if they are. \n",
        "\n",
        "In this notebook, we will:\n",
        "1. Install and import useful modules, including the aif360 library, and load the data\n",
        "2. Transform the data in the aif360 format\n",
        "3. Train and evaluate a ML model, and obtain predictions for the test set\n",
        "4. Create a ClassificationMetric object and calculate accuracy and bias metrics\n",
        "\n",
        "We will implement the ridge classifier in [scikit-learn](https://scikit-learn.org/stable/), and we will use the [aif360](https://aif360.readthedocs.io/en/latest/index.html) library to quantify the bias.\n",
        "\n"
      ],
      "metadata": {
        "id": "EwBbVkPqsbuR"
      }
    },
    {
      "cell_type": "markdown",
      "metadata": {
        "id": "-nYt5_h77QGN"
      },
      "source": [
        "## **Import aif360 and other modules, load the data**"
      ]
    },
    {
      "cell_type": "code",
      "metadata": {
        "id": "KgfZWXdy1REj"
      },
      "source": [
        "#Imports \n",
        "\n",
        "import pickle\n",
        "import numpy as np\n",
        "import pandas as pd"
      ],
      "execution_count": null,
      "outputs": []
    },
    {
      "cell_type": "code",
      "metadata": {
        "colab": {
          "base_uri": "https://localhost:8080/"
        },
        "id": "WPTo6bhBI52X",
        "outputId": "f1376dac-d944-4de5-a183-a3293965baba"
      },
      "source": [
        "#Install and import aif360\n",
        "\n",
        "!pip install aif360 \n",
        "import aif360"
      ],
      "execution_count": null,
      "outputs": [
        {
          "output_type": "stream",
          "name": "stdout",
          "text": [
            "Requirement already satisfied: aif360 in /usr/local/lib/python3.7/dist-packages (0.4.0)\n",
            "Requirement already satisfied: pandas>=0.24.0 in /usr/local/lib/python3.7/dist-packages (from aif360) (1.3.5)\n",
            "Requirement already satisfied: scikit-learn>=0.22.1 in /usr/local/lib/python3.7/dist-packages (from aif360) (1.0.2)\n",
            "Requirement already satisfied: numpy>=1.16 in /usr/local/lib/python3.7/dist-packages (from aif360) (1.21.5)\n",
            "Requirement already satisfied: matplotlib in /usr/local/lib/python3.7/dist-packages (from aif360) (3.2.2)\n",
            "Requirement already satisfied: tempeh in /usr/local/lib/python3.7/dist-packages (from aif360) (0.1.12)\n",
            "Requirement already satisfied: scipy<1.6.0,>=1.2.0 in /usr/local/lib/python3.7/dist-packages (from aif360) (1.4.1)\n",
            "Requirement already satisfied: pytz>=2017.3 in /usr/local/lib/python3.7/dist-packages (from pandas>=0.24.0->aif360) (2018.9)\n",
            "Requirement already satisfied: python-dateutil>=2.7.3 in /usr/local/lib/python3.7/dist-packages (from pandas>=0.24.0->aif360) (2.8.2)\n",
            "Requirement already satisfied: six>=1.5 in /usr/local/lib/python3.7/dist-packages (from python-dateutil>=2.7.3->pandas>=0.24.0->aif360) (1.15.0)\n",
            "Requirement already satisfied: threadpoolctl>=2.0.0 in /usr/local/lib/python3.7/dist-packages (from scikit-learn>=0.22.1->aif360) (3.1.0)\n",
            "Requirement already satisfied: joblib>=0.11 in /usr/local/lib/python3.7/dist-packages (from scikit-learn>=0.22.1->aif360) (1.1.0)\n",
            "Requirement already satisfied: kiwisolver>=1.0.1 in /usr/local/lib/python3.7/dist-packages (from matplotlib->aif360) (1.4.0)\n",
            "Requirement already satisfied: cycler>=0.10 in /usr/local/lib/python3.7/dist-packages (from matplotlib->aif360) (0.11.0)\n",
            "Requirement already satisfied: pyparsing!=2.0.4,!=2.1.2,!=2.1.6,>=2.0.1 in /usr/local/lib/python3.7/dist-packages (from matplotlib->aif360) (3.0.7)\n",
            "Requirement already satisfied: typing-extensions in /usr/local/lib/python3.7/dist-packages (from kiwisolver>=1.0.1->matplotlib->aif360) (3.10.0.2)\n",
            "Requirement already satisfied: memory-profiler in /usr/local/lib/python3.7/dist-packages (from tempeh->aif360) (0.60.0)\n",
            "Requirement already satisfied: shap in /usr/local/lib/python3.7/dist-packages (from tempeh->aif360) (0.40.0)\n",
            "Requirement already satisfied: requests in /usr/local/lib/python3.7/dist-packages (from tempeh->aif360) (2.23.0)\n",
            "Requirement already satisfied: pytest in /usr/local/lib/python3.7/dist-packages (from tempeh->aif360) (3.6.4)\n",
            "Requirement already satisfied: psutil in /usr/local/lib/python3.7/dist-packages (from memory-profiler->tempeh->aif360) (5.4.8)\n",
            "Requirement already satisfied: attrs>=17.4.0 in /usr/local/lib/python3.7/dist-packages (from pytest->tempeh->aif360) (21.4.0)\n",
            "Requirement already satisfied: pluggy<0.8,>=0.5 in /usr/local/lib/python3.7/dist-packages (from pytest->tempeh->aif360) (0.7.1)\n",
            "Requirement already satisfied: py>=1.5.0 in /usr/local/lib/python3.7/dist-packages (from pytest->tempeh->aif360) (1.11.0)\n",
            "Requirement already satisfied: setuptools in /usr/local/lib/python3.7/dist-packages (from pytest->tempeh->aif360) (57.4.0)\n",
            "Requirement already satisfied: atomicwrites>=1.0 in /usr/local/lib/python3.7/dist-packages (from pytest->tempeh->aif360) (1.4.0)\n",
            "Requirement already satisfied: more-itertools>=4.0.0 in /usr/local/lib/python3.7/dist-packages (from pytest->tempeh->aif360) (8.12.0)\n",
            "Requirement already satisfied: chardet<4,>=3.0.2 in /usr/local/lib/python3.7/dist-packages (from requests->tempeh->aif360) (3.0.4)\n",
            "Requirement already satisfied: urllib3!=1.25.0,!=1.25.1,<1.26,>=1.21.1 in /usr/local/lib/python3.7/dist-packages (from requests->tempeh->aif360) (1.24.3)\n",
            "Requirement already satisfied: idna<3,>=2.5 in /usr/local/lib/python3.7/dist-packages (from requests->tempeh->aif360) (2.10)\n",
            "Requirement already satisfied: certifi>=2017.4.17 in /usr/local/lib/python3.7/dist-packages (from requests->tempeh->aif360) (2021.10.8)\n",
            "Requirement already satisfied: tqdm>4.25.0 in /usr/local/lib/python3.7/dist-packages (from shap->tempeh->aif360) (4.63.0)\n",
            "Requirement already satisfied: packaging>20.9 in /usr/local/lib/python3.7/dist-packages (from shap->tempeh->aif360) (21.3)\n",
            "Requirement already satisfied: cloudpickle in /usr/local/lib/python3.7/dist-packages (from shap->tempeh->aif360) (1.3.0)\n",
            "Requirement already satisfied: numba in /usr/local/lib/python3.7/dist-packages (from shap->tempeh->aif360) (0.51.2)\n",
            "Requirement already satisfied: slicer==0.0.7 in /usr/local/lib/python3.7/dist-packages (from shap->tempeh->aif360) (0.0.7)\n",
            "Requirement already satisfied: llvmlite<0.35,>=0.34.0.dev0 in /usr/local/lib/python3.7/dist-packages (from numba->shap->tempeh->aif360) (0.34.0)\n"
          ]
        }
      ]
    },
    {
      "cell_type": "markdown",
      "source": [
        "Please download the data from the following link: https://hai-data.s3.eu-west-2.amazonaws.com/roadmaps/data.pickle. If running in Colab, please upload the data to the local folder. Otherwise, place the data in the same folder as the notebook.\n",
        "\n"
      ],
      "metadata": {
        "id": "78doKNEygX2z"
      }
    },
    {
      "cell_type": "code",
      "source": [
        "# Only run if running on Google Colab\n",
        "!pip3 install pickle5\n",
        "import pickle5 as pickle\n",
        "!gdown --id 1-Wd1evAoDs4YsjRLfC-ifarmQL-Ozg3R # download data file from public link and place it in content/ folder"
      ],
      "metadata": {
        "colab": {
          "base_uri": "https://localhost:8080/"
        },
        "id": "NnExcdAm24Z4",
        "outputId": "f859becd-8498-476d-d94c-3925eb8bef07"
      },
      "execution_count": null,
      "outputs": [
        {
          "output_type": "stream",
          "name": "stdout",
          "text": [
            "Requirement already satisfied: pickle5 in /usr/local/lib/python3.7/dist-packages (0.0.12)\n",
            "Access denied with the following error:\n",
            "\n",
            " \tCannot retrieve the public link of the file. You may need to change\n",
            "\tthe permission to 'Anyone with the link', or have had many accesses. \n",
            "\n",
            "You may still be able to access the file from the browser:\n",
            "\n",
            "\t https://drive.google.com/uc?id=1-Wd1evAoDs4YsjRLfC-ifarmQL-Ozg3R \n",
            "\n"
          ]
        }
      ]
    },
    {
      "cell_type": "code",
      "metadata": {
        "colab": {
          "base_uri": "https://localhost:8080/",
          "height": 299
        },
        "id": "ClEzlOOOpr0B",
        "outputId": "a7c7e549-8ce3-4533-e372-2afc2eefcdbb"
      },
      "source": [
        "path = '' \n",
        "if 'google.colab' in str(get_ipython()):\n",
        "  path = path + '/content/'\n",
        "path = path + 'data.pickle'\n",
        "\n",
        "#Load the data\n",
        "with open(path, 'rb') as handle:\n",
        "    raw_data = pickle.load(handle)  \n",
        "raw_data[:5] #display the first 5 candidates data"
      ],
      "execution_count": null,
      "outputs": [
        {
          "output_type": "execute_result",
          "data": {
            "text/plain": [
              "   Label  Gender Ethnicity          0         1         2         3         4  \\\n",
              "0      0  Female     White  28.021737  4.351153  2.453895  1.637143 -1.746628   \n",
              "1      0  Female     White  29.603342 -3.407193  0.771800 -2.957411  0.599226   \n",
              "2      1  Female  Hispanic  26.504283  0.642464  2.522944 -2.197094  2.270646   \n",
              "3      0  Female  Hispanic  25.012088  0.895121 -2.092517  3.687830  0.539642   \n",
              "4      1    Male  Hispanic  27.358934 -2.332423  0.154999 -2.623793  1.682456   \n",
              "\n",
              "          5         6  ...       490       491       492       493       494  \\\n",
              "0 -0.483463  0.034170  ... -0.557444 -0.015627 -0.052749 -0.234189 -0.072384   \n",
              "1 -2.805277  0.329414  ... -0.198440 -0.158843  0.191984 -0.004532  0.229210   \n",
              "2 -0.472510  0.532815  ...  0.423352 -0.033844 -0.125387 -0.483924 -0.116553   \n",
              "3  1.988930  1.121646  ... -0.280392  0.046582  0.116709  0.133876  0.072716   \n",
              "4  1.262280 -1.685565  ... -0.019350 -0.093371  0.003443 -0.025467  0.155397   \n",
              "\n",
              "        495       496       497       498       499  \n",
              "0  0.090403  0.376761  0.258914 -0.050558  0.014513  \n",
              "1 -0.173042 -0.072871  0.442939 -0.054423  0.026959  \n",
              "2 -0.113281  0.015519  0.017111 -0.012309  0.264572  \n",
              "3  0.124083  0.213735 -0.149901 -0.217130  0.004403  \n",
              "4 -0.067609 -0.084833  0.033429 -0.199198  0.229629  \n",
              "\n",
              "[5 rows x 503 columns]"
            ],
            "text/html": [
              "\n",
              "  <div id=\"df-81bdff5b-f332-4420-bc16-725b06d6b929\">\n",
              "    <div class=\"colab-df-container\">\n",
              "      <div>\n",
              "<style scoped>\n",
              "    .dataframe tbody tr th:only-of-type {\n",
              "        vertical-align: middle;\n",
              "    }\n",
              "\n",
              "    .dataframe tbody tr th {\n",
              "        vertical-align: top;\n",
              "    }\n",
              "\n",
              "    .dataframe thead th {\n",
              "        text-align: right;\n",
              "    }\n",
              "</style>\n",
              "<table border=\"1\" class=\"dataframe\">\n",
              "  <thead>\n",
              "    <tr style=\"text-align: right;\">\n",
              "      <th></th>\n",
              "      <th>Label</th>\n",
              "      <th>Gender</th>\n",
              "      <th>Ethnicity</th>\n",
              "      <th>0</th>\n",
              "      <th>1</th>\n",
              "      <th>2</th>\n",
              "      <th>3</th>\n",
              "      <th>4</th>\n",
              "      <th>5</th>\n",
              "      <th>6</th>\n",
              "      <th>...</th>\n",
              "      <th>490</th>\n",
              "      <th>491</th>\n",
              "      <th>492</th>\n",
              "      <th>493</th>\n",
              "      <th>494</th>\n",
              "      <th>495</th>\n",
              "      <th>496</th>\n",
              "      <th>497</th>\n",
              "      <th>498</th>\n",
              "      <th>499</th>\n",
              "    </tr>\n",
              "  </thead>\n",
              "  <tbody>\n",
              "    <tr>\n",
              "      <th>0</th>\n",
              "      <td>0</td>\n",
              "      <td>Female</td>\n",
              "      <td>White</td>\n",
              "      <td>28.021737</td>\n",
              "      <td>4.351153</td>\n",
              "      <td>2.453895</td>\n",
              "      <td>1.637143</td>\n",
              "      <td>-1.746628</td>\n",
              "      <td>-0.483463</td>\n",
              "      <td>0.034170</td>\n",
              "      <td>...</td>\n",
              "      <td>-0.557444</td>\n",
              "      <td>-0.015627</td>\n",
              "      <td>-0.052749</td>\n",
              "      <td>-0.234189</td>\n",
              "      <td>-0.072384</td>\n",
              "      <td>0.090403</td>\n",
              "      <td>0.376761</td>\n",
              "      <td>0.258914</td>\n",
              "      <td>-0.050558</td>\n",
              "      <td>0.014513</td>\n",
              "    </tr>\n",
              "    <tr>\n",
              "      <th>1</th>\n",
              "      <td>0</td>\n",
              "      <td>Female</td>\n",
              "      <td>White</td>\n",
              "      <td>29.603342</td>\n",
              "      <td>-3.407193</td>\n",
              "      <td>0.771800</td>\n",
              "      <td>-2.957411</td>\n",
              "      <td>0.599226</td>\n",
              "      <td>-2.805277</td>\n",
              "      <td>0.329414</td>\n",
              "      <td>...</td>\n",
              "      <td>-0.198440</td>\n",
              "      <td>-0.158843</td>\n",
              "      <td>0.191984</td>\n",
              "      <td>-0.004532</td>\n",
              "      <td>0.229210</td>\n",
              "      <td>-0.173042</td>\n",
              "      <td>-0.072871</td>\n",
              "      <td>0.442939</td>\n",
              "      <td>-0.054423</td>\n",
              "      <td>0.026959</td>\n",
              "    </tr>\n",
              "    <tr>\n",
              "      <th>2</th>\n",
              "      <td>1</td>\n",
              "      <td>Female</td>\n",
              "      <td>Hispanic</td>\n",
              "      <td>26.504283</td>\n",
              "      <td>0.642464</td>\n",
              "      <td>2.522944</td>\n",
              "      <td>-2.197094</td>\n",
              "      <td>2.270646</td>\n",
              "      <td>-0.472510</td>\n",
              "      <td>0.532815</td>\n",
              "      <td>...</td>\n",
              "      <td>0.423352</td>\n",
              "      <td>-0.033844</td>\n",
              "      <td>-0.125387</td>\n",
              "      <td>-0.483924</td>\n",
              "      <td>-0.116553</td>\n",
              "      <td>-0.113281</td>\n",
              "      <td>0.015519</td>\n",
              "      <td>0.017111</td>\n",
              "      <td>-0.012309</td>\n",
              "      <td>0.264572</td>\n",
              "    </tr>\n",
              "    <tr>\n",
              "      <th>3</th>\n",
              "      <td>0</td>\n",
              "      <td>Female</td>\n",
              "      <td>Hispanic</td>\n",
              "      <td>25.012088</td>\n",
              "      <td>0.895121</td>\n",
              "      <td>-2.092517</td>\n",
              "      <td>3.687830</td>\n",
              "      <td>0.539642</td>\n",
              "      <td>1.988930</td>\n",
              "      <td>1.121646</td>\n",
              "      <td>...</td>\n",
              "      <td>-0.280392</td>\n",
              "      <td>0.046582</td>\n",
              "      <td>0.116709</td>\n",
              "      <td>0.133876</td>\n",
              "      <td>0.072716</td>\n",
              "      <td>0.124083</td>\n",
              "      <td>0.213735</td>\n",
              "      <td>-0.149901</td>\n",
              "      <td>-0.217130</td>\n",
              "      <td>0.004403</td>\n",
              "    </tr>\n",
              "    <tr>\n",
              "      <th>4</th>\n",
              "      <td>1</td>\n",
              "      <td>Male</td>\n",
              "      <td>Hispanic</td>\n",
              "      <td>27.358934</td>\n",
              "      <td>-2.332423</td>\n",
              "      <td>0.154999</td>\n",
              "      <td>-2.623793</td>\n",
              "      <td>1.682456</td>\n",
              "      <td>1.262280</td>\n",
              "      <td>-1.685565</td>\n",
              "      <td>...</td>\n",
              "      <td>-0.019350</td>\n",
              "      <td>-0.093371</td>\n",
              "      <td>0.003443</td>\n",
              "      <td>-0.025467</td>\n",
              "      <td>0.155397</td>\n",
              "      <td>-0.067609</td>\n",
              "      <td>-0.084833</td>\n",
              "      <td>0.033429</td>\n",
              "      <td>-0.199198</td>\n",
              "      <td>0.229629</td>\n",
              "    </tr>\n",
              "  </tbody>\n",
              "</table>\n",
              "<p>5 rows × 503 columns</p>\n",
              "</div>\n",
              "      <button class=\"colab-df-convert\" onclick=\"convertToInteractive('df-81bdff5b-f332-4420-bc16-725b06d6b929')\"\n",
              "              title=\"Convert this dataframe to an interactive table.\"\n",
              "              style=\"display:none;\">\n",
              "        \n",
              "  <svg xmlns=\"http://www.w3.org/2000/svg\" height=\"24px\"viewBox=\"0 0 24 24\"\n",
              "       width=\"24px\">\n",
              "    <path d=\"M0 0h24v24H0V0z\" fill=\"none\"/>\n",
              "    <path d=\"M18.56 5.44l.94 2.06.94-2.06 2.06-.94-2.06-.94-.94-2.06-.94 2.06-2.06.94zm-11 1L8.5 8.5l.94-2.06 2.06-.94-2.06-.94L8.5 2.5l-.94 2.06-2.06.94zm10 10l.94 2.06.94-2.06 2.06-.94-2.06-.94-.94-2.06-.94 2.06-2.06.94z\"/><path d=\"M17.41 7.96l-1.37-1.37c-.4-.4-.92-.59-1.43-.59-.52 0-1.04.2-1.43.59L10.3 9.45l-7.72 7.72c-.78.78-.78 2.05 0 2.83L4 21.41c.39.39.9.59 1.41.59.51 0 1.02-.2 1.41-.59l7.78-7.78 2.81-2.81c.8-.78.8-2.07 0-2.86zM5.41 20L4 18.59l7.72-7.72 1.47 1.35L5.41 20z\"/>\n",
              "  </svg>\n",
              "      </button>\n",
              "      \n",
              "  <style>\n",
              "    .colab-df-container {\n",
              "      display:flex;\n",
              "      flex-wrap:wrap;\n",
              "      gap: 12px;\n",
              "    }\n",
              "\n",
              "    .colab-df-convert {\n",
              "      background-color: #E8F0FE;\n",
              "      border: none;\n",
              "      border-radius: 50%;\n",
              "      cursor: pointer;\n",
              "      display: none;\n",
              "      fill: #1967D2;\n",
              "      height: 32px;\n",
              "      padding: 0 0 0 0;\n",
              "      width: 32px;\n",
              "    }\n",
              "\n",
              "    .colab-df-convert:hover {\n",
              "      background-color: #E2EBFA;\n",
              "      box-shadow: 0px 1px 2px rgba(60, 64, 67, 0.3), 0px 1px 3px 1px rgba(60, 64, 67, 0.15);\n",
              "      fill: #174EA6;\n",
              "    }\n",
              "\n",
              "    [theme=dark] .colab-df-convert {\n",
              "      background-color: #3B4455;\n",
              "      fill: #D2E3FC;\n",
              "    }\n",
              "\n",
              "    [theme=dark] .colab-df-convert:hover {\n",
              "      background-color: #434B5C;\n",
              "      box-shadow: 0px 1px 3px 1px rgba(0, 0, 0, 0.15);\n",
              "      filter: drop-shadow(0px 1px 2px rgba(0, 0, 0, 0.3));\n",
              "      fill: #FFFFFF;\n",
              "    }\n",
              "  </style>\n",
              "\n",
              "      <script>\n",
              "        const buttonEl =\n",
              "          document.querySelector('#df-81bdff5b-f332-4420-bc16-725b06d6b929 button.colab-df-convert');\n",
              "        buttonEl.style.display =\n",
              "          google.colab.kernel.accessAllowed ? 'block' : 'none';\n",
              "\n",
              "        async function convertToInteractive(key) {\n",
              "          const element = document.querySelector('#df-81bdff5b-f332-4420-bc16-725b06d6b929');\n",
              "          const dataTable =\n",
              "            await google.colab.kernel.invokeFunction('convertToInteractive',\n",
              "                                                     [key], {});\n",
              "          if (!dataTable) return;\n",
              "\n",
              "          const docLinkHtml = 'Like what you see? Visit the ' +\n",
              "            '<a target=\"_blank\" href=https://colab.research.google.com/notebooks/data_table.ipynb>data table notebook</a>'\n",
              "            + ' to learn more about interactive tables.';\n",
              "          element.innerHTML = '';\n",
              "          dataTable['output_type'] = 'display_data';\n",
              "          await google.colab.output.renderOutput(dataTable, element);\n",
              "          const docLink = document.createElement('div');\n",
              "          docLink.innerHTML = docLinkHtml;\n",
              "          element.appendChild(docLink);\n",
              "        }\n",
              "      </script>\n",
              "    </div>\n",
              "  </div>\n",
              "  "
            ]
          },
          "metadata": {},
          "execution_count": 19
        }
      ]
    },
    {
      "cell_type": "code",
      "metadata": {
        "id": "fo4na9kCw6bN"
      },
      "source": [
        "# remove all nans --> we use the variable \"data\" in the rest of this notebook\n",
        "data = raw_data.dropna()"
      ],
      "execution_count": null,
      "outputs": []
    },
    {
      "cell_type": "markdown",
      "metadata": {
        "id": "f6hoB7SDMGnm"
      },
      "source": [
        "## **Transform data in aif360 format**"
      ]
    },
    {
      "cell_type": "markdown",
      "source": [
        "We first split our data into train and test sets. We use the sklearn library to do this."
      ],
      "metadata": {
        "id": "6vLLj-WHxOme"
      }
    },
    {
      "cell_type": "code",
      "source": [
        "from sklearn.model_selection import train_test_split\n",
        "\n",
        "#Split data into train/test\n",
        "data_train, data_test = train_test_split(data, test_size = 0.3, random_state=4)"
      ],
      "metadata": {
        "id": "6QlLifSixC2n"
      },
      "execution_count": null,
      "outputs": []
    },
    {
      "cell_type": "markdown",
      "metadata": {
        "id": "4MZWmsLr_AIk"
      },
      "source": [
        "We then  need to process our data so it is in the standard aif360 format. aif360 uses custom dataset classes. We will use the BinaryLabelDataset class for our problem. The BinaryLabelDataset has four components:\n",
        "- Features : features used to train the model\n",
        "- Labels : Outcome of binary classification\n",
        "- Scores: Probability of outcome (not available in our case)\n",
        "- Protected characteristics (*Gender* and *Ethnicity* columns for us)\n",
        "\n",
        "We therefore need to add the columns \"Gender\" and \"Ethnicity\" to our dataset. \n"
      ]
    },
    {
      "cell_type": "code",
      "metadata": {
        "colab": {
          "base_uri": "https://localhost:8080/"
        },
        "id": "9LZ1u1fVLZRY",
        "outputId": "f27892dc-d8b8-4aed-a1b9-4f5437112ec8"
      },
      "source": [
        "from aif360.datasets import BinaryLabelDataset\n",
        "from sklearn.preprocessing import LabelEncoder\n",
        "\n",
        "# make Gender and Ethnicity numerical\n",
        "def encode(df):\n",
        "  g_enc = LabelEncoder()\n",
        "  e_enc = LabelEncoder()\n",
        "  #add Gender and Ethnicity to the data\n",
        "  df['Gender'] = g_enc.fit_transform(df['Gender'])\n",
        "  df['Ethnicity'] = e_enc.fit_transform(df['Ethnicity'])\n",
        "  return df, g_enc,e_enc\n",
        "\n",
        "#Add Gender and Ethnicity to both datasets \n",
        "data_train, g_enc, e_enc = encode(data_train.copy())\n",
        "data_test, _, _ = encode(data_test.copy())\n",
        "\n",
        "#Print codes for the protected attributes\n",
        "print(\"Gender codes - Male : %d - Female : %d\"%(g_enc.transform(['Male'])[0], g_enc.transform(['Female'])[0]))\n",
        "print(\"Ethnicity codes - White : %d - Black : %d - Asian : %d - Hispanic : %d\"%(e_enc.transform(['White'])[0], e_enc.transform(['Black'])[0], e_enc.transform(['Asian'])[0], e_enc.transform(['Hispanic'])[0]))"
      ],
      "execution_count": null,
      "outputs": [
        {
          "output_type": "stream",
          "name": "stdout",
          "text": [
            "Gender codes - Male : 1 - Female : 0\n",
            "Ethnicity codes - White : 3 - Black : 1 - Asian : 0 - Hispanic : 2\n"
          ]
        }
      ]
    },
    {
      "cell_type": "markdown",
      "metadata": {
        "id": "yGB67pe8piG2"
      },
      "source": [
        "We're now going to make two BinaryLabelDatasets: one for the training data and one for test data. See [documentation here](https://aif360.readthedocs.io/en/latest/modules/generated/aif360.datasets.BinaryLabelDataset.html#aif360.datasets.BinaryLabelDataset) for BinaryLabelDataset and [here](https://aif360.readthedocs.io/en/latest/modules/generated/aif360.datasets.StructuredDataset.html#aif360.datasets.StructuredDataset) for StructuredDataset the base class on which the former is built. "
      ]
    },
    {
      "cell_type": "code",
      "metadata": {
        "id": "klyW2tF4KS5b"
      },
      "source": [
        "# Make BinaryLabelDatasets \n",
        "# Notice that we have to specify the following arguments: *favorable_label, unfavorable_label,df,label_names,protected_attribute_names*.\n",
        "ds_train_true = BinaryLabelDataset(favorable_label=1.0, unfavorable_label=0.0, df=data_train, label_names=['Label'], protected_attribute_names=['Gender','Ethnicity'])\n",
        "ds_test_true = BinaryLabelDataset(favorable_label=1.0, unfavorable_label=0.0, df=data_test, label_names=['Label'], protected_attribute_names=['Gender','Ethnicity'])"
      ],
      "execution_count": null,
      "outputs": []
    },
    {
      "cell_type": "markdown",
      "source": [
        "By default, the protected attributes are used as features by the BinaryLabelDataset object. We will update the features so they don't contain the protected attributes. You can use *ds.feature_names* to check which columns are included.\n"
      ],
      "metadata": {
        "id": "2qYf7fmjkccN"
      }
    },
    {
      "cell_type": "code",
      "source": [
        "# Define function to split the data \n",
        "def split_data_from_df(data):\n",
        "  y = data['Label'].values\n",
        "  X = data[np.arange(500)].values\n",
        "  filter_col = ['Ethnicity', 'Gender'] + [col for col in data if str(col).startswith('Ethnicity_')] + [col for col in data if str(col).startswith('Gender_')] \n",
        "  dem = data[filter_col].copy()\n",
        "  return X, y, dem\n",
        "\n",
        "# Update features so that they don't contain protected attributes\n",
        "X_train, y_train, dem_train = split_data_from_df(data_train)\n",
        "X_test, y_test, dem_test = split_data_from_df(data_test)\n",
        "ds_train_true.features = X_train\n",
        "ds_test_true.features = X_test\n",
        "\n",
        "#Set the features to be the 500 pre-defined features, whose columns names are 0,1..499\n",
        "ds_test_true.feature_names = np.arange(500).astype(str)\n",
        "ds_train_true.feature_names = np.arange(500).astype(str)"
      ],
      "metadata": {
        "id": "PR64KduelBx3"
      },
      "execution_count": null,
      "outputs": []
    },
    {
      "cell_type": "markdown",
      "metadata": {
        "id": "GV7HUVoiKE0T"
      },
      "source": [
        "## **Train the model and get the predictions for the test set**"
      ]
    },
    {
      "cell_type": "markdown",
      "metadata": {
        "id": "FFoOaE65KE7r"
      },
      "source": [
        "We can now proceed to create a RidgeClassifier model with the sklearn library, train the model and get the predictions for the test set. We use *X_train=ds_train.features* and *y_train=ds_train.labels.ravel()* to access X and y from the dataset created earlier; and similarly for *X_test,y_test*."
      ]
    },
    {
      "cell_type": "code",
      "metadata": {
        "id": "_f-wUT2EpiG2",
        "colab": {
          "base_uri": "https://localhost:8080/"
        },
        "outputId": "fecc9e8d-7615-41fd-e265-f2b0ce38420c"
      },
      "source": [
        "from sklearn.linear_model import RidgeClassifier\n",
        "\n",
        "# create model\n",
        "model = RidgeClassifier(random_state = 42)\n",
        "\n",
        "# train model\n",
        "X_train = ds_train_true.features\n",
        "y_train = ds_train_true.labels.ravel()\n",
        "model.fit(X_train,y_train)\n",
        "\n",
        "X_test = ds_test_true.features\n",
        "y_test = ds_test_true.labels.ravel()\n",
        "y_test_pred = model.predict(X_test)\n",
        "\n",
        "#print accuracy\n",
        "print(model.score(X_test, y_test))"
      ],
      "execution_count": null,
      "outputs": [
        {
          "output_type": "stream",
          "name": "stdout",
          "text": [
            "0.7133085323412937\n"
          ]
        }
      ]
    },
    {
      "cell_type": "markdown",
      "metadata": {
        "id": "yq0-K1xSKaNy"
      },
      "source": [
        "## **Create a ClassificationMetric object and calculate accuracy and bias metrics**"
      ]
    },
    {
      "cell_type": "markdown",
      "source": [
        "We now need to choose what privileged and unprivileged groups we want to focus on. You can try different combinations by changing the attributes in the dropdown. "
      ],
      "metadata": {
        "id": "GS36-watGi8I"
      }
    },
    {
      "cell_type": "code",
      "source": [
        "#@title Select privileged and unprivileged groups  { display-mode: \"both\" }\n",
        "\n",
        "#text = 'value' #@param {type:\"string\"}\n",
        "protected_attribute = 'Ethnicity' #@param [\"Ethnicity\", \"Gender\"]\n",
        "\n",
        "privileged_group = 'White' #@param [\"Asian\", \"Black\", \"Hispanic\", \"White\", \"Male\", \"Female\"]\n",
        "unprivileged_group = 'Black' #@param [\"Asian\", \"Black\", \"Hispanic\", \"White\", \"Male\", \"Female\"]\n",
        "\n"
      ],
      "metadata": {
        "id": "zBiOGyWtT-_K"
      },
      "execution_count": null,
      "outputs": []
    },
    {
      "cell_type": "code",
      "source": [
        "#Find codes for each group \n",
        "if protected_attribute == 'Ethnicity':\n",
        "  code_privileged_group = e_enc.transform([privileged_group])[0]\n",
        "  code_unprivileged_group = e_enc.transform([unprivileged_group])[0]\n",
        "\n",
        "if protected_attribute == 'Gender':\n",
        "  code_privileged_group = g_enc.transform([privileged_group])[0]\n",
        "  code_unprivileged_group = g_enc.transform([unprivileged_group])[0]\n",
        "\n",
        "#Define privileged and unprivileged groups \n",
        "unprivileged_groups = [{protected_attribute:code_unprivileged_group}]  #list of privileged groups with the respective code\n",
        "privileged_groups = [{protected_attribute:code_privileged_group}] #list of unprivileged groups with the respective code"
      ],
      "metadata": {
        "id": "faHvfcI9G8J4"
      },
      "execution_count": null,
      "outputs": []
    },
    {
      "cell_type": "markdown",
      "metadata": {
        "id": "FcIy-8AqpiG2"
      },
      "source": [
        "We next have to create a [ClassificationMetric](https://aif360.readthedocs.io/en/latest/modules/generated/aif360.metrics.ClassificationMetric.html) object for the test set. \n",
        "Notice that it takes 4 arguments: \n",
        "1. dataset: ds_test = the test dataset you created above \n",
        "2. classified_dataset: ds_test_pred = the same dataset but replacing the labels with the predictions as such:\n",
        "    ```python\n",
        "            ds_test_pred = ds_test.copy()\n",
        "            ds_test_pred.labels = y_pred_test\n",
        "    ```\n",
        "3. unprivileged_groups\n",
        "4. privileged_groups\n",
        "    "
      ]
    },
    {
      "cell_type": "code",
      "source": [
        "from aif360.metrics import ClassificationMetric\n",
        "\n",
        "# create pred dataset by changing labels\n",
        "ds_test_pred = ds_test_true.copy()\n",
        "ds_test_pred.labels = y_test_pred\n",
        "\n",
        "# create metric class\n",
        "metric_ethnicity = ClassificationMetric(\n",
        "        ds_test_true, ds_test_pred,\n",
        "        unprivileged_groups=unprivileged_groups,\n",
        "        privileged_groups=privileged_groups)"
      ],
      "metadata": {
        "id": "9Z0MiOJifwMI"
      },
      "execution_count": null,
      "outputs": []
    },
    {
      "cell_type": "markdown",
      "source": [
        "We can now calculate and print the following metrics: \n",
        "\n",
        "1. Accuracy\n",
        "2. Statistical Parity Difference\n",
        "3. Disparate Impact\n",
        "4. Equal Opportunity Difference\n",
        "\n",
        "\n",
        "You can refer to the [roadmap](https://aif360.readthedocs.io/en/latest/modules/generated/aif360.metrics.ClassificationMetric.html) for the definition of metrics.\n",
        " "
      ],
      "metadata": {
        "id": "4mEdObPvfUMz"
      }
    },
    {
      "cell_type": "code",
      "metadata": {
        "id": "afYuOKKcpiG2",
        "colab": {
          "base_uri": "https://localhost:8080/"
        },
        "outputId": "873d337e-597b-4810-e2d9-052f229ff005"
      },
      "source": [
        "# evaluate\n",
        "print(\"Accuracy : %.2f\" %metric_ethnicity.accuracy())\n",
        "print(\"Statistical Parity Difference : %.2f\" %metric_ethnicity.statistical_parity_difference())\n",
        "print(\"Disparate Impact : %.2f\" %metric_ethnicity.disparate_impact())\n",
        "print(\"Equal Opportunity Difference : %.2f\" %metric_ethnicity.equal_opportunity_difference())"
      ],
      "execution_count": null,
      "outputs": [
        {
          "output_type": "stream",
          "name": "stdout",
          "text": [
            "Accuracy : 0.71\n",
            "Statistical Parity Difference : -0.09\n",
            "Disparate Impact : 0.75\n",
            "Equal Opportunity Difference : -0.11\n"
          ]
        }
      ]
    },
    {
      "cell_type": "markdown",
      "metadata": {
        "id": "DENBCL2AMc3I"
      },
      "source": [
        "## **Final remarks**\n",
        "\n",
        "Note that in this example we only obtained one number for fairness metrics. In general, you should calculate a confidence interval by repeating the experiments for different train/test splits. A way to do this is for instance to use a non-parametric bootstrap method as described in section 10.2 from the book [Computer Age Statistical Inference by B.Efron and T.Hastie](https://web.stanford.edu/~hastie/CASI_files/PDF/casi.pdf). "
      ]
    }
  ]
}