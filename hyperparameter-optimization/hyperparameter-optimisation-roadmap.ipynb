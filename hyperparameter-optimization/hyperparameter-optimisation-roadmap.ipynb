{
  "cells": [
    {
      "cell_type": "markdown",
      "source": [
        "# **Hyperparameter Optimisation**\n",
        "\n",
        "### Maximising Model Performance Via Hyperparameter Selection"
      ],
      "metadata": {
        "id": "wJd-EaOHcbFk"
      },
      "id": "wJd-EaOHcbFk"
    },
    {
      "cell_type": "markdown",
      "source": [
        "The performance of a trained machine learning model can be very sensitive to the hyperparameter settings and thus it is important for the model owner to choose settings carefully in order to maximise the model’s efficacy (‘hyperparameter optimisation’).\n",
        "\n",
        "In this notebook, we will:\n",
        "\n",
        "\n",
        "1.   Generate and visualise synthetic data to be used for the downstream tasks\n",
        "2.   Declare hyperparameter search spaces\n",
        "3.   Perform hyperparameter search using the three-way holdout method for validation\n",
        "4.   Perform hyperparameter search using the *k*-fold cross-validation method\n",
        "\n",
        "For each of steps 2 and 3, we will work through four hyperparameter search methods:\n",
        "\n",
        "*   Random search\n",
        "*   Grid search\n",
        "*   Bayesian optimisation\n",
        "*   Evolutionary algorithms\n",
        "\n",
        "This notebook should be read in conjunction with the Hyperparameter Optimisation document which can be found here [link to be finalised]. "
      ],
      "metadata": {
        "id": "ghSSmiN7ciRJ"
      },
      "id": "ghSSmiN7ciRJ"
    },
    {
      "cell_type": "markdown",
      "source": [
        "### <font color='red'>Install missing modules"
      ],
      "metadata": {
        "id": "3orGDo6tfOZ6"
      },
      "id": "3orGDo6tfOZ6"
    },
    {
      "cell_type": "code",
      "source": [
        "!pip install tpot"
      ],
      "metadata": {
        "colab": {
          "base_uri": "https://localhost:8080/"
        },
        "id": "9CrMpf1Yfhsa",
        "outputId": "9a522e79-2404-4548-e3ea-ce37267a73b3"
      },
      "id": "9CrMpf1Yfhsa",
      "execution_count": null,
      "outputs": [
        {
          "output_type": "stream",
          "name": "stdout",
          "text": [
            "Collecting tpot\n",
            "  Downloading TPOT-0.11.7-py3-none-any.whl (87 kB)\n",
            "\u001b[?25l\r\u001b[K     |███▊                            | 10 kB 18.6 MB/s eta 0:00:01\r\u001b[K     |███████▌                        | 20 kB 10.9 MB/s eta 0:00:01\r\u001b[K     |███████████▎                    | 30 kB 9.2 MB/s eta 0:00:01\r\u001b[K     |███████████████                 | 40 kB 8.3 MB/s eta 0:00:01\r\u001b[K     |██████████████████▉             | 51 kB 4.5 MB/s eta 0:00:01\r\u001b[K     |██████████████████████▋         | 61 kB 5.3 MB/s eta 0:00:01\r\u001b[K     |██████████████████████████▎     | 71 kB 5.3 MB/s eta 0:00:01\r\u001b[K     |██████████████████████████████  | 81 kB 5.9 MB/s eta 0:00:01\r\u001b[K     |████████████████████████████████| 87 kB 3.1 MB/s \n",
            "\u001b[?25hCollecting deap>=1.2\n",
            "  Downloading deap-1.3.1-cp37-cp37m-manylinux_2_5_x86_64.manylinux1_x86_64.manylinux_2_12_x86_64.manylinux2010_x86_64.whl (160 kB)\n",
            "\u001b[K     |████████████████████████████████| 160 kB 31.8 MB/s \n",
            "\u001b[?25hRequirement already satisfied: scikit-learn>=0.22.0 in /usr/local/lib/python3.7/dist-packages (from tpot) (1.0.2)\n",
            "Requirement already satisfied: tqdm>=4.36.1 in /usr/local/lib/python3.7/dist-packages (from tpot) (4.63.0)\n",
            "Collecting xgboost>=1.1.0\n",
            "  Downloading xgboost-1.5.2-py3-none-manylinux2014_x86_64.whl (173.6 MB)\n",
            "\u001b[K     |████████████████████████████████| 173.6 MB 7.6 kB/s \n",
            "\u001b[?25hCollecting stopit>=1.1.1\n",
            "  Downloading stopit-1.1.2.tar.gz (18 kB)\n",
            "Requirement already satisfied: scipy>=1.3.1 in /usr/local/lib/python3.7/dist-packages (from tpot) (1.4.1)\n",
            "Requirement already satisfied: joblib>=0.13.2 in /usr/local/lib/python3.7/dist-packages (from tpot) (1.1.0)\n",
            "Requirement already satisfied: pandas>=0.24.2 in /usr/local/lib/python3.7/dist-packages (from tpot) (1.3.5)\n",
            "Collecting update-checker>=0.16\n",
            "  Downloading update_checker-0.18.0-py3-none-any.whl (7.0 kB)\n",
            "Requirement already satisfied: numpy>=1.16.3 in /usr/local/lib/python3.7/dist-packages (from tpot) (1.21.5)\n",
            "Requirement already satisfied: python-dateutil>=2.7.3 in /usr/local/lib/python3.7/dist-packages (from pandas>=0.24.2->tpot) (2.8.2)\n",
            "Requirement already satisfied: pytz>=2017.3 in /usr/local/lib/python3.7/dist-packages (from pandas>=0.24.2->tpot) (2018.9)\n",
            "Requirement already satisfied: six>=1.5 in /usr/local/lib/python3.7/dist-packages (from python-dateutil>=2.7.3->pandas>=0.24.2->tpot) (1.15.0)\n",
            "Requirement already satisfied: threadpoolctl>=2.0.0 in /usr/local/lib/python3.7/dist-packages (from scikit-learn>=0.22.0->tpot) (3.1.0)\n",
            "Requirement already satisfied: requests>=2.3.0 in /usr/local/lib/python3.7/dist-packages (from update-checker>=0.16->tpot) (2.23.0)\n",
            "Requirement already satisfied: chardet<4,>=3.0.2 in /usr/local/lib/python3.7/dist-packages (from requests>=2.3.0->update-checker>=0.16->tpot) (3.0.4)\n",
            "Requirement already satisfied: idna<3,>=2.5 in /usr/local/lib/python3.7/dist-packages (from requests>=2.3.0->update-checker>=0.16->tpot) (2.10)\n",
            "Requirement already satisfied: urllib3!=1.25.0,!=1.25.1,<1.26,>=1.21.1 in /usr/local/lib/python3.7/dist-packages (from requests>=2.3.0->update-checker>=0.16->tpot) (1.24.3)\n",
            "Requirement already satisfied: certifi>=2017.4.17 in /usr/local/lib/python3.7/dist-packages (from requests>=2.3.0->update-checker>=0.16->tpot) (2021.10.8)\n",
            "Building wheels for collected packages: stopit\n",
            "  Building wheel for stopit (setup.py) ... \u001b[?25l\u001b[?25hdone\n",
            "  Created wheel for stopit: filename=stopit-1.1.2-py3-none-any.whl size=11956 sha256=3b1691895b70cc69269f27747d968d8b861a087c779436ffacc4b6b279dbfd40\n",
            "  Stored in directory: /root/.cache/pip/wheels/e2/d2/79/eaf81edb391e27c87f51b8ef901ecc85a5363dc96b8b8d71e3\n",
            "Successfully built stopit\n",
            "Installing collected packages: xgboost, update-checker, stopit, deap, tpot\n",
            "  Attempting uninstall: xgboost\n",
            "    Found existing installation: xgboost 0.90\n",
            "    Uninstalling xgboost-0.90:\n",
            "      Successfully uninstalled xgboost-0.90\n",
            "Successfully installed deap-1.3.1 stopit-1.1.2 tpot-0.11.7 update-checker-0.18.0 xgboost-1.5.2\n"
          ]
        }
      ]
    },
    {
      "cell_type": "markdown",
      "id": "df124e9a",
      "metadata": {
        "id": "df124e9a"
      },
      "source": [
        "### <font color='red'>Import modules/functions"
      ]
    },
    {
      "cell_type": "code",
      "execution_count": null,
      "id": "746ff0f6",
      "metadata": {
        "id": "746ff0f6"
      },
      "outputs": [],
      "source": [
        "import numpy as np\n",
        "\n",
        "# Scikit-learn imports\n",
        "from sklearn.datasets import make_blobs\n",
        "from sklearn.ensemble import RandomForestClassifier\n",
        "from sklearn.linear_model import LogisticRegression\n",
        "from sklearn.metrics import accuracy_score\n",
        "from sklearn.model_selection import train_test_split\n",
        "from sklearn.preprocessing import StandardScaler\n",
        "from sklearn.decomposition import PCA\n",
        "from sklearn.model_selection import ParameterSampler, ParameterGrid, RandomizedSearchCV, GridSearchCV, KFold, StratifiedKFold\n",
        "\n",
        "# Matplotlib imports\n",
        "from matplotlib import pyplot as plt\n",
        "from mpl_toolkits.mplot3d import Axes3D\n",
        "\n",
        "# Hyperopt imports (for Bayesian optimisation)\n",
        "import hyperopt\n",
        "from hyperopt import hp, fmin, tpe, STATUS_OK, Trials\n",
        "\n",
        "# TPOT import (for evolutionary algorithms)\n",
        "from tpot import TPOTClassifier"
      ]
    },
    {
      "cell_type": "markdown",
      "id": "89d2e05f",
      "metadata": {
        "id": "89d2e05f"
      },
      "source": [
        "# <font color='deepskyblue'>Generate and visualise synthetic data"
      ]
    },
    {
      "cell_type": "markdown",
      "id": "c4c42295",
      "metadata": {
        "id": "c4c42295"
      },
      "source": [
        "### <font color='red'>Generate synthetic data"
      ]
    },
    {
      "cell_type": "markdown",
      "source": [
        "We create binary data which overlaps. Changing 'cluster_std' causes the data to overlap more widely making it more difficult for a classifier to separate the two classes."
      ],
      "metadata": {
        "id": "5etfmDdmgIwN"
      },
      "id": "5etfmDdmgIwN"
    },
    {
      "cell_type": "code",
      "execution_count": null,
      "id": "faf828bb",
      "metadata": {
        "id": "faf828bb"
      },
      "outputs": [],
      "source": [
        "# generate synthetic data\n",
        "X, Y = make_blobs(n_samples = 1000, centers=2, n_features=50, cluster_std=30)\n",
        "# scale the features\n",
        "X = StandardScaler().fit_transform(X)"
      ]
    },
    {
      "cell_type": "markdown",
      "id": "d7d2ff6f",
      "metadata": {
        "id": "d7d2ff6f"
      },
      "source": [
        "### <font color='red'>Display data"
      ]
    },
    {
      "cell_type": "markdown",
      "source": [
        "We perform PCA analysis in order to isolate the data features which show the greatest variability. We then graph in 2D and 3D to get some intuition of how the data appears."
      ],
      "metadata": {
        "id": "k6RY4cSagejf"
      },
      "id": "k6RY4cSagejf"
    },
    {
      "cell_type": "code",
      "source": [
        "pca = PCA(n_components=3)\n",
        "principalComponents = pca.fit_transform(X)"
      ],
      "metadata": {
        "id": "5afPDPILg43r"
      },
      "id": "5afPDPILg43r",
      "execution_count": null,
      "outputs": []
    },
    {
      "cell_type": "code",
      "execution_count": null,
      "id": "1b63d6ea",
      "metadata": {
        "jupyter": {
          "source_hidden": true
        },
        "id": "1b63d6ea",
        "outputId": "da3226b1-2849-4ab6-a95b-2b2e52bf2281",
        "colab": {
          "base_uri": "https://localhost:8080/",
          "height": 265
        }
      },
      "outputs": [
        {
          "output_type": "display_data",
          "data": {
            "text/plain": [
              "<Figure size 432x288 with 1 Axes>"
            ],
            "image/png": "[encoded data removed]"
          },
          "metadata": {
            "needs_background": "light"
          }
        }
      ],
      "source": [
        "plt.scatter(principalComponents[np.where(Y==0),0], principalComponents[np.where(Y==0),1], s=5, color='blue')\n",
        "plt.scatter(principalComponents[np.where(Y==1),0], principalComponents[np.where(Y==1),1], s=5, color='red')\n",
        "plt.show()"
      ]
    },
    {
      "cell_type": "code",
      "execution_count": null,
      "id": "0371bd30",
      "metadata": {
        "jupyter": {
          "source_hidden": true
        },
        "id": "0371bd30",
        "outputId": "55208bd2-6261-47a8-c94b-abd6328489e4",
        "colab": {
          "base_uri": "https://localhost:8080/",
          "height": 419
        }
      },
      "outputs": [
        {
          "output_type": "display_data",
          "data": {
            "text/plain": [
              "<Figure size 750x500 with 1 Axes>"
            ],
            "image/png": "[encoded data removed]"
          },
          "metadata": {
            "needs_background": "light"
          }
        }
      ],
      "source": [
        "%matplotlib inline\n",
        "\n",
        "fig = plt.figure(dpi=125)\n",
        "ax = fig.add_subplot(111, projection='3d')\n",
        "ax.scatter(principalComponents[np.where(Y==0),0], principalComponents[np.where(Y==0),1],\\\n",
        "           principalComponents[np.where(Y==0),2], s=3, color='blue')\n",
        "ax.scatter(principalComponents[np.where(Y==1),0], principalComponents[np.where(Y==1),1],\\\n",
        "           principalComponents[np.where(Y==1),2], s=3, color='red')\n",
        "ax.view_init(elev=20, azim=-66)"
      ]
    },
    {
      "cell_type": "markdown",
      "metadata": {
        "id": "csqkNxRZibVH"
      },
      "source": [
        "# <font color='deepskyblue'>Declare hyperparameter spaces for the four hyperparameter search methods"
      ],
      "id": "csqkNxRZibVH"
    },
    {
      "cell_type": "markdown",
      "id": "2a8981a8",
      "metadata": {
        "id": "2a8981a8"
      },
      "source": [
        "### <font color='red'>Define hyperparameter grid for random search and grid search\n",
        "\n",
        "- to be used for both random search and grid search\n",
        "- used for the three-way holdout method, k-fold cross-validation and LOOCV"
      ]
    },
    {
      "cell_type": "code",
      "execution_count": null,
      "id": "35b82229",
      "metadata": {
        "id": "35b82229"
      },
      "outputs": [],
      "source": [
        "paramGrid = {'max_features': list(np.linspace(1,25,5, dtype = int)),\n",
        "              'n_estimators': list(np.linspace(10,100,10, dtype = int))} "
      ]
    },
    {
      "cell_type": "markdown",
      "id": "6cac846f",
      "metadata": {
        "id": "6cac846f"
      },
      "source": [
        "### <font color='red'>Define hyperparameter space for Bayesian optimisation\n",
        "- we use the same parameter range as before, but this version is for use specifically by the Hyperopt package for Bayesian optimisation\n",
        "- used for the three-way holdout method, k-fold cross-validation and LOOCV"
      ]
    },
    {
      "cell_type": "code",
      "execution_count": null,
      "id": "0ffd23ea",
      "metadata": {
        "id": "0ffd23ea"
      },
      "outputs": [],
      "source": [
        "bayesianSpace = {'max_features': hp.choice('max_features',list(np.linspace(1,25,5, dtype = int))),\n",
        "              'n_estimators': hp.choice('n_estimators',list(np.linspace(10,100,10, dtype = int)))}"
      ]
    },
    {
      "cell_type": "markdown",
      "id": "02107067-764a-48f9-997b-90f7579975fa",
      "metadata": {
        "id": "02107067-764a-48f9-997b-90f7579975fa"
      },
      "source": [
        "### <font color='red'>Define hyperparameter space for Evolutionary Algorithms\n",
        "- we use the same parameter range as before, but this version includes the random state (as the random state isn't passed as an explicit argument to the TPOT function call)\n",
        "- used for the three-way holdout method, k-fold cross-validation and LOOCV"
      ]
    },
    {
      "cell_type": "code",
      "execution_count": null,
      "id": "3ec98330-e905-4e78-a1cf-1455192cc62d",
      "metadata": {
        "id": "3ec98330-e905-4e78-a1cf-1455192cc62d"
      },
      "outputs": [],
      "source": [
        "EAparamGrid = {'max_features': list(np.linspace(1,25,5, dtype = int)),\n",
        "              'n_estimators': list(np.linspace(10,100,10, dtype = int)),\n",
        "              'random_state': list(np.linspace(42,42,1, dtype = int))} "
      ]
    },
    {
      "cell_type": "markdown",
      "metadata": {
        "id": "BGpDHgQtiCFJ"
      },
      "source": [
        "# <font color='deepskyblue'>Three-way holdout method"
      ],
      "id": "BGpDHgQtiCFJ"
    },
    {
      "cell_type": "markdown",
      "source": [
        "As per the Hyperparameter Optimisation document, the three-way holdout method is best only used for large datasets, where the complete exclusion of the validation set for model training (parameter learning) only causes minimal learning impact."
      ],
      "metadata": {
        "id": "-IY0ltjSdb91"
      },
      "id": "-IY0ltjSdb91"
    },
    {
      "cell_type": "markdown",
      "id": "b1db60d9",
      "metadata": {
        "id": "b1db60d9"
      },
      "source": [
        "### Split the dataset three ways"
      ]
    },
    {
      "cell_type": "code",
      "execution_count": null,
      "id": "46938568",
      "metadata": {
        "id": "46938568"
      },
      "outputs": [],
      "source": [
        "# split dataset for three-way holdout method\n",
        "combinedTrainX, testX, combinedTrainY, testY = train_test_split(X, Y, test_size = 0.20, random_state = 42)\n",
        "trainX, validX, trainY, validY = train_test_split(combinedTrainX, combinedTrainY, test_size = 0.25, random_state = 42)"
      ]
    },
    {
      "cell_type": "markdown",
      "id": "6f709d47",
      "metadata": {
        "id": "6f709d47"
      },
      "source": [
        "### Training and validation loop for random search and grid search"
      ]
    },
    {
      "cell_type": "code",
      "execution_count": null,
      "id": "03ba2bad",
      "metadata": {
        "tags": [],
        "id": "03ba2bad"
      },
      "outputs": [],
      "source": [
        "def trainingLoop_randomGrid(paramList):\n",
        "\n",
        "    searchResults = np.zeros((len(paramList), len(paramGrid)+1))\n",
        "\n",
        "    for i, params in enumerate(paramList):\n",
        "        model = RandomForestClassifier(**params, random_state=42)\n",
        "        model.fit(trainX, trainY)\n",
        "        predictions = model.predict(validX)\n",
        "        acc = accuracy_score(predictions, validY)\n",
        "\n",
        "        for j in range(len(params)):\n",
        "            searchResults[i,j] = list(params.values())[j]\n",
        "        searchResults[i,-1] = acc\n",
        "\n",
        "    return searchResults"
      ]
    },
    {
      "cell_type": "markdown",
      "id": "b9609524",
      "metadata": {
        "id": "b9609524"
      },
      "source": [
        "## <font color='red'>Three-way holdout method - random search"
      ]
    },
    {
      "cell_type": "markdown",
      "id": "d2dc876e",
      "metadata": {
        "id": "d2dc876e"
      },
      "source": [
        "### Create random sample of hyperparameter sets"
      ]
    },
    {
      "cell_type": "code",
      "execution_count": null,
      "id": "2c5f68c6",
      "metadata": {
        "id": "2c5f68c6"
      },
      "outputs": [],
      "source": [
        "randomParamList = ParameterSampler(param_distributions=paramGrid, n_iter=10, random_state=42)"
      ]
    },
    {
      "cell_type": "markdown",
      "id": "2ad2d3dd",
      "metadata": {
        "id": "2ad2d3dd"
      },
      "source": [
        "### Find the hyperparameters from the random sample that returns the best performance (accuracy)"
      ]
    },
    {
      "cell_type": "code",
      "execution_count": null,
      "id": "7a29eabf",
      "metadata": {
        "id": "7a29eabf",
        "outputId": "f1000be1-e2c6-4fcb-8b70-e11dc4c3369e",
        "colab": {
          "base_uri": "https://localhost:8080/"
        }
      },
      "outputs": [
        {
          "output_type": "execute_result",
          "data": {
            "text/plain": [
              "{'max_features': 7, 'n_estimators': 80}"
            ]
          },
          "metadata": {},
          "execution_count": 15
        }
      ],
      "source": [
        "randomSearchResults = trainingLoop_randomGrid(randomParamList)\n",
        "bestParams = list(randomParamList)[np.argmax(randomSearchResults[:,-1])]\n",
        "bestParams"
      ]
    },
    {
      "cell_type": "markdown",
      "id": "cf4c803f",
      "metadata": {
        "id": "cf4c803f"
      },
      "source": [
        "### Retrain model using the 'best hyperparameters' on the combined training and validation sets and compute expected generalisation error over the test set"
      ]
    },
    {
      "cell_type": "code",
      "execution_count": null,
      "id": "a6793b70",
      "metadata": {
        "id": "a6793b70",
        "outputId": "ca8eadaa-2d9a-420e-def7-c5a4513bc897",
        "colab": {
          "base_uri": "https://localhost:8080/"
        }
      },
      "outputs": [
        {
          "output_type": "execute_result",
          "data": {
            "text/plain": [
              "0.84"
            ]
          },
          "metadata": {},
          "execution_count": 16
        }
      ],
      "source": [
        "model = RandomForestClassifier(**bestParams, random_state=42)\n",
        "model.fit(combinedTrainX, combinedTrainY)\n",
        "predictions = model.predict(testX)\n",
        "acc = accuracy_score(predictions, testY)\n",
        "acc"
      ]
    },
    {
      "cell_type": "markdown",
      "id": "0de4097e",
      "metadata": {
        "id": "0de4097e"
      },
      "source": [
        "### Retrain model using the 'best hyperparameters' over the entire dataset\n",
        "\n",
        "This step generates a model which uses the largest amount of training data possible. However, doing as such precludes the use of a holdout set and thus an expected generalisation error at this step cannot be computed."
      ]
    },
    {
      "cell_type": "code",
      "execution_count": null,
      "id": "ee3c8002",
      "metadata": {
        "id": "ee3c8002",
        "outputId": "eb3549ec-1433-431d-d12d-1b06d9927c43",
        "colab": {
          "base_uri": "https://localhost:8080/"
        }
      },
      "outputs": [
        {
          "output_type": "execute_result",
          "data": {
            "text/plain": [
              "RandomForestClassifier(max_features=7, n_estimators=80, random_state=42)"
            ]
          },
          "metadata": {},
          "execution_count": 17
        }
      ],
      "source": [
        "model = RandomForestClassifier(**bestParams, random_state=42)\n",
        "model.fit(X, Y)"
      ]
    },
    {
      "cell_type": "markdown",
      "id": "fdafc85c",
      "metadata": {
        "id": "fdafc85c"
      },
      "source": [
        "## <font color='red'>Three-way holdout method - grid search"
      ]
    },
    {
      "cell_type": "markdown",
      "id": "2d1aa033",
      "metadata": {
        "id": "2d1aa033"
      },
      "source": [
        "### Create list of all hyperparameter sets than can be generated from the grid"
      ]
    },
    {
      "cell_type": "code",
      "execution_count": null,
      "id": "eebaa2f3",
      "metadata": {
        "id": "eebaa2f3"
      },
      "outputs": [],
      "source": [
        "gridParamList = ParameterGrid(param_grid=paramGrid)"
      ]
    },
    {
      "cell_type": "markdown",
      "id": "5b5ffd34",
      "metadata": {
        "id": "5b5ffd34"
      },
      "source": [
        "### Find the hyperparameters from the random sample that returns the best performance (accuracy)"
      ]
    },
    {
      "cell_type": "code",
      "execution_count": null,
      "id": "4a43e97f",
      "metadata": {
        "id": "4a43e97f",
        "outputId": "596d1c1b-9cd0-4eff-a0c4-953cb796719c"
      },
      "outputs": [
        {
          "data": {
            "text/plain": [
              "({'max_features': 7, 'n_estimators': 50}, 0.755)"
            ]
          },
          "execution_count": 19,
          "metadata": {},
          "output_type": "execute_result"
        }
      ],
      "source": [
        "gridSearchResults = trainingLoop_randomGrid(gridParamList)\n",
        "bestParams = list(gridParamList)[np.argmax(gridSearchResults[:,-1])]\n",
        "bestParams, max(gridSearchResults[:,-1])"
      ]
    },
    {
      "cell_type": "markdown",
      "id": "ee2009ca",
      "metadata": {
        "id": "ee2009ca"
      },
      "source": [
        "### Retrain model using the 'best hyperparameters' on the combined training and validation sets and compute expected generalisation error over the test set"
      ]
    },
    {
      "cell_type": "code",
      "execution_count": null,
      "id": "82da2473",
      "metadata": {
        "id": "82da2473",
        "outputId": "f30f0e81-0a93-4932-98e3-35dc5d0d3a02"
      },
      "outputs": [
        {
          "data": {
            "text/plain": [
              "0.77"
            ]
          },
          "execution_count": 20,
          "metadata": {},
          "output_type": "execute_result"
        }
      ],
      "source": [
        "model = RandomForestClassifier(**bestParams, random_state=42)\n",
        "model.fit(combinedTrainX, combinedTrainY)\n",
        "predictions = model.predict(testX)\n",
        "acc = accuracy_score(predictions, testY)\n",
        "acc"
      ]
    },
    {
      "cell_type": "markdown",
      "id": "ec4beef2",
      "metadata": {
        "id": "ec4beef2"
      },
      "source": [
        "### Retrain model using the 'best hyperparameters' over the entire dataset\n",
        "\n",
        "This step generates a model which uses the largest amount of training data possible. However, doing as such precludes the use of a holdout set and thus an expected generalisation error at this step cannot be computed."
      ]
    },
    {
      "cell_type": "code",
      "execution_count": null,
      "id": "aa4e0197",
      "metadata": {
        "id": "aa4e0197",
        "outputId": "50dcefef-6b76-49ba-ab46-3f53dbf28079"
      },
      "outputs": [
        {
          "data": {
            "text/plain": [
              "RandomForestClassifier(max_features=7, n_estimators=50, random_state=42)"
            ]
          },
          "execution_count": 21,
          "metadata": {},
          "output_type": "execute_result"
        }
      ],
      "source": [
        "model = RandomForestClassifier(**bestParams, random_state=42)\n",
        "model.fit(X, Y)"
      ]
    },
    {
      "cell_type": "markdown",
      "id": "45ce55a7",
      "metadata": {
        "id": "45ce55a7"
      },
      "source": [
        "## <font color='red'>Three-way holdout method - Bayesian optimisation"
      ]
    },
    {
      "cell_type": "markdown",
      "id": "b6a964d9",
      "metadata": {
        "id": "b6a964d9"
      },
      "source": [
        "### Training and validation function for Bayesian optimisation"
      ]
    },
    {
      "cell_type": "code",
      "execution_count": null,
      "id": "12a46624",
      "metadata": {
        "id": "12a46624"
      },
      "outputs": [],
      "source": [
        "def objective(bayesianSpace):\n",
        "    model = RandomForestClassifier(max_features = bayesianSpace['max_features'], n_estimators = bayesianSpace['n_estimators'], random_state=42)\n",
        "    model.fit(trainX, trainY)\n",
        "    predictions = model.predict(validX)\n",
        "    acc = accuracy_score(predictions, validY)\n",
        "    \n",
        "    return {'loss': -acc, 'status':STATUS_OK}"
      ]
    },
    {
      "cell_type": "markdown",
      "id": "99727aca",
      "metadata": {
        "id": "99727aca"
      },
      "source": [
        "### Find the 'best hyperparameters' generated by the Bayesian optimisation process"
      ]
    },
    {
      "cell_type": "code",
      "execution_count": null,
      "id": "bf7d4c6c",
      "metadata": {
        "id": "bf7d4c6c",
        "outputId": "fee16f01-e578-4803-a7ca-d65c8ab5675f"
      },
      "outputs": [
        {
          "name": "stdout",
          "output_type": "stream",
          "text": [
            "100%|██████████| 50/50 [00:09<00:00,  5.35trial/s, best loss: -0.755]\n"
          ]
        },
        {
          "data": {
            "text/plain": [
              "{'max_features': 7, 'n_estimators': 50}"
            ]
          },
          "execution_count": 23,
          "metadata": {},
          "output_type": "execute_result"
        }
      ],
      "source": [
        "trials = Trials()\n",
        "best = fmin(fn=objective, space=bayesianSpace, algo=tpe.suggest, max_evals=50, trials=trials)\n",
        "bestParams = hyperopt.space_eval(bayesianSpace, best)\n",
        "bestParams"
      ]
    },
    {
      "cell_type": "markdown",
      "id": "5fdcd906",
      "metadata": {
        "id": "5fdcd906"
      },
      "source": [
        "### Retrain model using the 'best hyperparameters' on the combined training and validation sets and compute expected generalisation error over the test set"
      ]
    },
    {
      "cell_type": "code",
      "execution_count": null,
      "id": "ab782c14",
      "metadata": {
        "id": "ab782c14",
        "outputId": "04a68f25-8138-4e28-fff9-cd76608ab3d7"
      },
      "outputs": [
        {
          "data": {
            "text/plain": [
              "0.77"
            ]
          },
          "execution_count": 24,
          "metadata": {},
          "output_type": "execute_result"
        }
      ],
      "source": [
        "model = RandomForestClassifier(**bestParams, random_state=42)\n",
        "model.fit(combinedTrainX, combinedTrainY)\n",
        "predictions = model.predict(testX)\n",
        "acc = accuracy_score(predictions, testY)\n",
        "acc"
      ]
    },
    {
      "cell_type": "markdown",
      "id": "ffeaca5e",
      "metadata": {
        "id": "ffeaca5e"
      },
      "source": [
        "### Retrain model using the 'best hyperparameters' over the entire dataset\n",
        "\n",
        "This step generates a model which uses the largest amount of training data possible. However, doing as such precludes the use of a holdout set and thus an expected generalisation error at this step cannot be computed."
      ]
    },
    {
      "cell_type": "code",
      "execution_count": null,
      "id": "2a6c1771",
      "metadata": {
        "id": "2a6c1771",
        "outputId": "8e9126cc-f827-4a1d-a651-9ca2eb93440e"
      },
      "outputs": [
        {
          "data": {
            "text/plain": [
              "RandomForestClassifier(max_features=7, n_estimators=50, random_state=42)"
            ]
          },
          "execution_count": 25,
          "metadata": {},
          "output_type": "execute_result"
        }
      ],
      "source": [
        "model = RandomForestClassifier(**bestParams, random_state=42)\n",
        "model.fit(X, Y)"
      ]
    },
    {
      "cell_type": "markdown",
      "id": "df0da6e3",
      "metadata": {
        "id": "df0da6e3"
      },
      "source": [
        "## <font color='red'>Three-way holdout method - evolutionary algorithms"
      ]
    },
    {
      "cell_type": "markdown",
      "source": [
        "The TPOT functions naturally perform *k*-fold cross-validation. We create a predefined split of the data to feed to the TPOT function to override this behaviour."
      ],
      "metadata": {
        "id": "gIXpF8B0iwju"
      },
      "id": "gIXpF8B0iwju"
    },
    {
      "cell_type": "code",
      "execution_count": null,
      "id": "61c46dc1",
      "metadata": {
        "id": "61c46dc1"
      },
      "outputs": [],
      "source": [
        "from sklearn.model_selection import PredefinedSplit\n",
        "from sklearn.metrics import make_scorer\n",
        "\n",
        "combinedTrainX_appended = np.concatenate((combinedTrainX, np.arange(0, len(combinedTrainX)).reshape(-1,1)), axis=1)\n",
        "\n",
        "# split dataset for three-way holdout method\n",
        "trainX_appended, validX_appended, trainY, validY = train_test_split(combinedTrainX_appended, combinedTrainY, test_size = 0.25, random_state = 42)\n",
        "\n",
        "foldList = np.zeros((len(combinedTrainX),1))\n",
        "foldList[trainX_appended[:,-1].astype(int),0] = -1\n",
        "foldList[validX_appended[:,-1].astype(int),0] = 0\n",
        "\n",
        "ps = PredefinedSplit(foldList)\n",
        "\n",
        "# Make a custom metric function\n",
        "def my_custom_accuracy(y_true, y_pred):\n",
        "    return accuracy_score(y_true, y_pred)\n",
        "\n",
        "# # Make a custom a scorer from the custom metric function\n",
        "# # Note: greater_is_better=False in make_scorer below would mean that the scoring function should be minimized.\n",
        "my_custom_scorer = make_scorer(my_custom_accuracy, greater_is_better=True)"
      ]
    },
    {
      "cell_type": "markdown",
      "source": [
        "###Use the TPOT module to perform the hyperparameter search using evolutionary algorithms"
      ],
      "metadata": {
        "id": "NdliMtmYiel8"
      },
      "id": "NdliMtmYiel8"
    },
    {
      "cell_type": "code",
      "execution_count": null,
      "id": "6b626c7f",
      "metadata": {
        "id": "6b626c7f",
        "outputId": "31c9c8fd-17a5-4403-bbfc-7d7fc9e70c66",
        "colab": {
          "referenced_widgets": [
            ""
          ]
        }
      },
      "outputs": [
        {
          "data": {
            "application/vnd.jupyter.widget-view+json": {
              "model_id": "",
              "version_major": 2,
              "version_minor": 0
            },
            "text/plain": [
              "Optimization Progress:   0%|          | 0/15 [00:00<?, ?pipeline/s]"
            ]
          },
          "metadata": {},
          "output_type": "display_data"
        },
        {
          "name": "stdout",
          "output_type": "stream",
          "text": [
            "\n",
            "Generation 1 - Current best internal CV score: 0.76\n",
            "\n",
            "Generation 2 - Current best internal CV score: 0.76\n",
            "\n",
            "Best pipeline: RandomForestClassifier(input_matrix, max_features=13, n_estimators=80, random_state=42)\n"
          ]
        },
        {
          "data": {
            "text/plain": [
              "1.0"
            ]
          },
          "execution_count": 31,
          "metadata": {},
          "output_type": "execute_result"
        }
      ],
      "source": [
        "bestEAmodel = TPOTClassifier(template='Classifier', generations=2, population_size=5, random_state=42, verbosity=2, \\\n",
        "                             config_dict={'sklearn.ensemble.RandomForestClassifier': EAparamGrid}, \\\n",
        "                             scoring=my_custom_scorer, cv=ps.split())\n",
        "bestEAmodel.fit(combinedTrainX, combinedTrainY)\n",
        "bestEAmodel.score(validX_appended[:,:-1], validY)"
      ]
    },
    {
      "cell_type": "markdown",
      "id": "8efa6f4a-ebf6-4026-a7b8-760a606d25c5",
      "metadata": {
        "id": "8efa6f4a-ebf6-4026-a7b8-760a606d25c5"
      },
      "source": [
        "### Retrain model using the 'best hyperparameters' on the training set and compute expected generalisation error over the validation set"
      ]
    },
    {
      "cell_type": "code",
      "execution_count": null,
      "id": "5c746d80",
      "metadata": {
        "id": "5c746d80",
        "outputId": "4c2e20de-0066-4960-cfe5-e3b122d78069"
      },
      "outputs": [
        {
          "data": {
            "text/plain": [
              "0.745"
            ]
          },
          "execution_count": 32,
          "metadata": {},
          "output_type": "execute_result"
        }
      ],
      "source": [
        "model = list(bestEAmodel.fitted_pipeline_.steps)[0][1]\n",
        "model.fit(trainX, trainY)\n",
        "predictions = model.predict(validX)\n",
        "acc = accuracy_score(predictions, validY)\n",
        "acc"
      ]
    },
    {
      "cell_type": "markdown",
      "id": "b9a76b8e-7320-4311-ad14-c146de530b52",
      "metadata": {
        "id": "b9a76b8e-7320-4311-ad14-c146de530b52"
      },
      "source": [
        "### Retrain model using the 'best hyperparameters' on the combined training and validation sets and compute expected generalisation error over the test set"
      ]
    },
    {
      "cell_type": "code",
      "execution_count": null,
      "id": "7a0604e1-59e1-476d-949c-cc8795bf2618",
      "metadata": {
        "id": "7a0604e1-59e1-476d-949c-cc8795bf2618",
        "outputId": "0891433d-d6c4-4d7a-cf37-a41edbdda59f"
      },
      "outputs": [
        {
          "data": {
            "text/plain": [
              "0.74"
            ]
          },
          "execution_count": 35,
          "metadata": {},
          "output_type": "execute_result"
        }
      ],
      "source": [
        "model = list(bestEAmodel.fitted_pipeline_.steps)[0][1]\n",
        "model.fit(combinedTrainX, combinedTrainY)\n",
        "predictions = model.predict(testX)\n",
        "acc = accuracy_score(predictions, testY)\n",
        "acc"
      ]
    },
    {
      "cell_type": "markdown",
      "id": "e5e2fab2-587c-4d6b-bdb7-3d8a3e1cd4fb",
      "metadata": {
        "id": "e5e2fab2-587c-4d6b-bdb7-3d8a3e1cd4fb"
      },
      "source": [
        "### Retrain model using the 'best hyperparameters' over the entire dataset\n",
        "\n",
        "This step generates a model which uses the largest amount of training data possible. However, doing as such precludes the use of a holdout set and thus an expected generalisation error at this step cannot be computed."
      ]
    },
    {
      "cell_type": "code",
      "execution_count": null,
      "id": "dd38539a-9726-401a-b3c5-2c887a371f57",
      "metadata": {
        "id": "dd38539a-9726-401a-b3c5-2c887a371f57",
        "outputId": "73702f45-90c1-42cd-9207-5ac1e6b81352"
      },
      "outputs": [
        {
          "data": {
            "text/plain": [
              "RandomForestClassifier(max_features=13, n_estimators=80, random_state=42)"
            ]
          },
          "execution_count": 36,
          "metadata": {},
          "output_type": "execute_result"
        }
      ],
      "source": [
        "model = list(bestEAmodel.fitted_pipeline_.steps)[0][1]\n",
        "model.fit(X, Y)"
      ]
    },
    {
      "cell_type": "markdown",
      "id": "a9382643-65c5-4293-bdf0-0a1456175de7",
      "metadata": {
        "id": "a9382643-65c5-4293-bdf0-0a1456175de7"
      },
      "source": [
        "# <font color='deepskyblue'>*k*-fold cross-validation"
      ]
    },
    {
      "cell_type": "markdown",
      "source": [
        "*k*-fold cross-validation (including the special case when *k* is set to equal *n*, referred to as 'Leave-One-Out Cross-Validation' or LOOCV for short) is well-suited for use over smaller datasets where it is best to show as much of the available data as possible to the learning algorithm."
      ],
      "metadata": {
        "id": "1gwU9bHGeDmo"
      },
      "id": "1gwU9bHGeDmo"
    },
    {
      "cell_type": "markdown",
      "id": "8598c6aa-fa81-4017-867a-d5f8a6822961",
      "metadata": {
        "id": "8598c6aa-fa81-4017-867a-d5f8a6822961"
      },
      "source": [
        "### Split the dataset two ways"
      ]
    },
    {
      "cell_type": "code",
      "execution_count": null,
      "id": "452edb83-9860-4f6e-810d-b87c5789c5a5",
      "metadata": {
        "id": "452edb83-9860-4f6e-810d-b87c5789c5a5"
      },
      "outputs": [],
      "source": [
        "trainX, testX, trainY, testY = train_test_split(X, Y, test_size = 0.20, random_state = 42)"
      ]
    },
    {
      "cell_type": "markdown",
      "id": "bff2feb2-7abf-4e41-81ba-005eba425c5f",
      "metadata": {
        "id": "bff2feb2-7abf-4e41-81ba-005eba425c5f"
      },
      "source": [
        "## <font color='red'>*k*-fold cross-validation - random search and grid search"
      ]
    },
    {
      "cell_type": "markdown",
      "id": "f7cba982-2bf8-4277-9594-9c958c135621",
      "metadata": {
        "id": "f7cba982-2bf8-4277-9594-9c958c135621"
      },
      "source": [
        "### Find the hyperparameters from the random sample that returns the best performance (accuracy)\n",
        "\n",
        "In the cell below, calls to both the randomised search function and the grid search function are given. Please comment out the function (with # at the start of the line) that you do not wish to use)."
      ]
    },
    {
      "cell_type": "code",
      "execution_count": null,
      "id": "690db150-a57b-4dba-ba77-4a7395328748",
      "metadata": {
        "id": "690db150-a57b-4dba-ba77-4a7395328748",
        "outputId": "1f76d2a4-0632-4e08-df88-108d27766d4d"
      },
      "outputs": [
        {
          "data": {
            "text/plain": [
              "({'n_estimators': 70, 'max_features': 13}, 0.73)"
            ]
          },
          "execution_count": 62,
          "metadata": {},
          "output_type": "execute_result"
        }
      ],
      "source": [
        "cv = KFold(n_splits=5)\n",
        "\n",
        "model = RandomizedSearchCV(estimator=RandomForestClassifier(random_state=42), random_state=42, param_distributions=paramGrid, n_iter=10, cv=cv)\n",
        "# model = GridSearchCV(estimator=RandomForestClassifier(random_state=42), param_grid=paramGrid, cv=cv)\n",
        "\n",
        "model.fit(trainX, trainY)\n",
        "bestParams = model.best_params_\n",
        "bestParams, model.best_score_"
      ]
    },
    {
      "cell_type": "markdown",
      "id": "1fc8b120-672e-464d-a77c-e1436eb83baf",
      "metadata": {
        "id": "1fc8b120-672e-464d-a77c-e1436eb83baf"
      },
      "source": [
        "### Retrain model using the 'best hyperparameters' on the full training set and compute expected generalisation error over the test set"
      ]
    },
    {
      "cell_type": "code",
      "execution_count": null,
      "id": "74e50f02-bf0a-4b58-b1b2-98b03a7ca038",
      "metadata": {
        "id": "74e50f02-bf0a-4b58-b1b2-98b03a7ca038",
        "outputId": "4d6cc927-f79e-4179-ec98-9d9a44b2cda0"
      },
      "outputs": [
        {
          "data": {
            "text/plain": [
              "0.755"
            ]
          },
          "execution_count": 63,
          "metadata": {},
          "output_type": "execute_result"
        }
      ],
      "source": [
        "model = RandomForestClassifier(**bestParams, random_state=42)\n",
        "model.fit(trainX, trainY)\n",
        "predictions = model.predict(testX)\n",
        "acc = accuracy_score(predictions, testY)\n",
        "acc"
      ]
    },
    {
      "cell_type": "markdown",
      "id": "2336646a-1055-4505-9bf0-053b5f373e42",
      "metadata": {
        "id": "2336646a-1055-4505-9bf0-053b5f373e42"
      },
      "source": [
        "### Retrain model using the 'best hyperparameters' over the entire dataset\n",
        "\n",
        "This step generates a model which uses the largest amount of training data possible. However, doing as such precludes the use of a holdout set and thus an expected generalisation error at this step cannot be computed."
      ]
    },
    {
      "cell_type": "code",
      "execution_count": null,
      "id": "755fe05c-b19d-4260-ab91-4b14851f8ee9",
      "metadata": {
        "id": "755fe05c-b19d-4260-ab91-4b14851f8ee9",
        "outputId": "9035399e-e3f8-444c-a572-cadbfb194a03"
      },
      "outputs": [
        {
          "data": {
            "text/plain": [
              "RandomForestClassifier(max_features=13, n_estimators=70, random_state=42)"
            ]
          },
          "execution_count": 64,
          "metadata": {},
          "output_type": "execute_result"
        }
      ],
      "source": [
        "model = RandomForestClassifier(**bestParams, random_state=42)\n",
        "model.fit(X, Y)"
      ]
    },
    {
      "cell_type": "markdown",
      "id": "e94f598b-6334-42ef-bb52-31a4a93a30d6",
      "metadata": {
        "id": "e94f598b-6334-42ef-bb52-31a4a93a30d6"
      },
      "source": [
        "## <font color='red'>*k*-fold cross-validation - Bayesian optimisation"
      ]
    },
    {
      "cell_type": "markdown",
      "id": "3a47c0db-9a8b-4875-8ad2-e50c70306ab3",
      "metadata": {
        "id": "3a47c0db-9a8b-4875-8ad2-e50c70306ab3"
      },
      "source": [
        "### Generate folds to be used by the Bayesian optimisation objective function"
      ]
    },
    {
      "cell_type": "code",
      "execution_count": null,
      "id": "437f97dd-1f0f-4fef-b9b3-ee976651348c",
      "metadata": {
        "tags": [],
        "id": "437f97dd-1f0f-4fef-b9b3-ee976651348c"
      },
      "outputs": [],
      "source": [
        "# kf = KFold(n_splits=5)\n",
        "\n",
        "kf = StratifiedKFold(n_splits=5)"
      ]
    },
    {
      "cell_type": "markdown",
      "id": "f9cde1c9-c5ac-4c9d-bcc0-d1f55f46fd35",
      "metadata": {
        "id": "f9cde1c9-c5ac-4c9d-bcc0-d1f55f46fd35"
      },
      "source": [
        "### Training and validation function for Bayesian optimisation"
      ]
    },
    {
      "cell_type": "code",
      "execution_count": null,
      "id": "39910998-fb8f-4b2e-a9da-6275f12cc479",
      "metadata": {
        "id": "39910998-fb8f-4b2e-a9da-6275f12cc479"
      },
      "outputs": [],
      "source": [
        "def objective(bayesianSpace):\n",
        "    model = RandomForestClassifier(max_features = bayesianSpace['max_features'], n_estimators = bayesianSpace['n_estimators'], random_state=42)\n",
        "    \n",
        "    cumulativeAcc = 0\n",
        "    \n",
        "    for train_index, test_index in kf.split(trainX, trainY):\n",
        "        trainX_cv, validX_cv = trainX[train_index], trainX[test_index]\n",
        "        trainY_cv, validY_cv = trainY[train_index], trainY[test_index]\n",
        "    \n",
        "        model.fit(trainX_cv, trainY_cv)\n",
        "        predictions = model.predict(validX_cv)\n",
        "        acc = accuracy_score(predictions, validY_cv)\n",
        "        \n",
        "        cumulativeAcc += acc\n",
        "    \n",
        "    acc /= kf.n_splits\n",
        "    \n",
        "    return {'loss': -acc, 'status':STATUS_OK}"
      ]
    },
    {
      "cell_type": "markdown",
      "id": "7e33ef52-af46-4c4f-b786-4361446a2338",
      "metadata": {
        "id": "7e33ef52-af46-4c4f-b786-4361446a2338"
      },
      "source": [
        "### Find the 'best hyperparameters' generated by the Bayesian optimisation process"
      ]
    },
    {
      "cell_type": "code",
      "execution_count": null,
      "id": "3bf2ca2e-d181-4dcc-8b76-d3d99750137b",
      "metadata": {
        "id": "3bf2ca2e-d181-4dcc-8b76-d3d99750137b",
        "outputId": "21b58ccf-8389-4d30-aaad-cb0de6b2d3d4"
      },
      "outputs": [
        {
          "name": "stdout",
          "output_type": "stream",
          "text": [
            "100%|██████████| 10/10 [00:05<00:00,  1.94trial/s, best loss: -0.16375]\n"
          ]
        },
        {
          "data": {
            "text/plain": [
              "{'max_features': 7, 'n_estimators': 100}"
            ]
          },
          "execution_count": 78,
          "metadata": {},
          "output_type": "execute_result"
        }
      ],
      "source": [
        "trials = Trials()\n",
        "best = fmin(fn=objective, space=bayesianSpace, algo=tpe.suggest, max_evals=10, trials=trials)\n",
        "bestParams = hyperopt.space_eval(bayesianSpace, best)\n",
        "bestParams"
      ]
    },
    {
      "cell_type": "markdown",
      "id": "cf5a5d3b-caa5-4f35-bf7b-9164b35d24d9",
      "metadata": {
        "id": "cf5a5d3b-caa5-4f35-bf7b-9164b35d24d9"
      },
      "source": [
        "### Retrain model using the 'best hyperparameters' on the combined training and validation sets and compute expected generalisation error over the test set"
      ]
    },
    {
      "cell_type": "code",
      "execution_count": null,
      "id": "bc62bd78-9d1b-4519-9c15-7ee43bb6e73a",
      "metadata": {
        "id": "bc62bd78-9d1b-4519-9c15-7ee43bb6e73a",
        "outputId": "cbbe82d7-ee95-4cfd-bfa5-76f3741853e4"
      },
      "outputs": [
        {
          "data": {
            "text/plain": [
              "0.79"
            ]
          },
          "execution_count": 79,
          "metadata": {},
          "output_type": "execute_result"
        }
      ],
      "source": [
        "model = RandomForestClassifier(**bestParams, random_state=42)\n",
        "model.fit(combinedTrainX, combinedTrainY)\n",
        "predictions = model.predict(testX)\n",
        "acc = accuracy_score(predictions, testY)\n",
        "acc"
      ]
    },
    {
      "cell_type": "markdown",
      "id": "6260c490-78a5-47b3-ab49-626a1aae1b53",
      "metadata": {
        "id": "6260c490-78a5-47b3-ab49-626a1aae1b53"
      },
      "source": [
        "### Retrain model using the 'best hyperparameters' over the entire dataset\n",
        "\n",
        "This step generates a model which uses the largest amount of training data possible. However, doing as such precludes the use of a holdout set and thus an expected generalisation error at this step cannot be computed."
      ]
    },
    {
      "cell_type": "code",
      "execution_count": null,
      "id": "f1819dc4-c976-40c9-9d6b-e192b4c2e91d",
      "metadata": {
        "id": "f1819dc4-c976-40c9-9d6b-e192b4c2e91d",
        "outputId": "7e97b3f5-d2d4-4cdb-c1c6-326245faaedd"
      },
      "outputs": [
        {
          "data": {
            "text/plain": [
              "RandomForestClassifier(max_features=7, random_state=42)"
            ]
          },
          "execution_count": 80,
          "metadata": {},
          "output_type": "execute_result"
        }
      ],
      "source": [
        "model = RandomForestClassifier(**bestParams, random_state=42)\n",
        "model.fit(X, Y)"
      ]
    },
    {
      "cell_type": "markdown",
      "id": "cb3febb6-fac9-4d4d-818c-738a70ce0387",
      "metadata": {
        "id": "cb3febb6-fac9-4d4d-818c-738a70ce0387"
      },
      "source": [
        "## <font color='red'>*k*-fold cross-validation - evolutionary algorithms"
      ]
    },
    {
      "cell_type": "markdown",
      "source": [
        "Declare the number of folds to be used by the TPOT function together with the evaluation metric (accuracy)."
      ],
      "metadata": {
        "id": "RxcvGKZcjr4x"
      },
      "id": "RxcvGKZcjr4x"
    },
    {
      "cell_type": "code",
      "execution_count": null,
      "id": "0d73f9ff-167b-4a40-8047-985f5d76a08c",
      "metadata": {
        "id": "0d73f9ff-167b-4a40-8047-985f5d76a08c"
      },
      "outputs": [],
      "source": [
        "from sklearn.metrics import make_scorer\n",
        "\n",
        "cv = KFold(n_splits=5)\n",
        "\n",
        "# Make a custom metric function\n",
        "def my_custom_accuracy(y_true, y_pred):\n",
        "    return accuracy_score(y_true, y_pred)\n",
        "\n",
        "# # Make a custom a scorer from the custom metric function\n",
        "# # Note: greater_is_better=False in make_scorer below would mean that the scoring function should be minimized.\n",
        "my_custom_scorer = make_scorer(my_custom_accuracy, greater_is_better=True)"
      ]
    },
    {
      "cell_type": "markdown",
      "source": [
        "###Use the TPOT module to perform the hyperparameter search using evolutionary algorithms"
      ],
      "metadata": {
        "id": "RO3EXEFMjj4Q"
      },
      "id": "RO3EXEFMjj4Q"
    },
    {
      "cell_type": "code",
      "execution_count": null,
      "id": "e89cd99d-5098-4c86-bd48-ebdfde403998",
      "metadata": {
        "id": "e89cd99d-5098-4c86-bd48-ebdfde403998",
        "outputId": "36de0d9e-d4b0-4561-9a13-608e6a327baa",
        "colab": {
          "referenced_widgets": [
            ""
          ]
        }
      },
      "outputs": [
        {
          "data": {
            "application/vnd.jupyter.widget-view+json": {
              "model_id": "",
              "version_major": 2,
              "version_minor": 0
            },
            "text/plain": [
              "Optimization Progress:   0%|          | 0/15 [00:00<?, ?pipeline/s]"
            ]
          },
          "metadata": {},
          "output_type": "display_data"
        },
        {
          "name": "stdout",
          "output_type": "stream",
          "text": [
            "\n",
            "Generation 1 - Current best internal CV score: 0.74\n",
            "\n",
            "Generation 2 - Current best internal CV score: 0.74\n",
            "\n",
            "Best pipeline: RandomForestClassifier(input_matrix, max_features=13, n_estimators=80, random_state=42)\n"
          ]
        },
        {
          "data": {
            "text/plain": [
              "TPOTClassifier(config_dict={'sklearn.ensemble.RandomForestClassifier': {'max_features': [1,\n",
              "                                                                                         7,\n",
              "                                                                                         13,\n",
              "                                                                                         19,\n",
              "                                                                                         25],\n",
              "                                                                        'n_estimators': [10,\n",
              "                                                                                         20,\n",
              "                                                                                         30,\n",
              "                                                                                         40,\n",
              "                                                                                         50,\n",
              "                                                                                         60,\n",
              "                                                                                         70,\n",
              "                                                                                         80,\n",
              "                                                                                         90,\n",
              "                                                                                         100],\n",
              "                                                                        'random_state': [42]}},\n",
              "               cv=KFold(n_splits=5, random_state=None, shuffle=False),\n",
              "               generations=2, population_size=5, random_state=42,\n",
              "               scoring=make_scorer(my_custom_accuracy), template='Classifier',\n",
              "               verbosity=2)"
            ]
          },
          "execution_count": 82,
          "metadata": {},
          "output_type": "execute_result"
        }
      ],
      "source": [
        "bestEAmodel = TPOTClassifier(template='Classifier', generations=2, population_size=5, random_state=42, verbosity=2, \\\n",
        "                             config_dict={'sklearn.ensemble.RandomForestClassifier': EAparamGrid}, \\\n",
        "                             scoring=my_custom_scorer, cv=cv)\n",
        "bestEAmodel.fit(trainX, trainY)"
      ]
    },
    {
      "cell_type": "markdown",
      "id": "69e24840-5d9e-4e9f-8c00-a85b7244f3e0",
      "metadata": {
        "id": "69e24840-5d9e-4e9f-8c00-a85b7244f3e0"
      },
      "source": [
        "### Retrain model using the 'best hyperparameters' on the combined training and validation sets and compute expected generalisation error over the test set"
      ]
    },
    {
      "cell_type": "code",
      "execution_count": null,
      "id": "fcec6a33-fc1b-4891-b149-eb95aaa86110",
      "metadata": {
        "id": "fcec6a33-fc1b-4891-b149-eb95aaa86110",
        "outputId": "f33a1488-e5d0-4a0c-9b82-871ae7eb3256"
      },
      "outputs": [
        {
          "data": {
            "text/plain": [
              "0.74"
            ]
          },
          "execution_count": 84,
          "metadata": {},
          "output_type": "execute_result"
        }
      ],
      "source": [
        "model = list(bestEAmodel.fitted_pipeline_.steps)[0][1]\n",
        "model.fit(trainX, trainY)\n",
        "predictions = model.predict(testX)\n",
        "acc = accuracy_score(predictions, testY)\n",
        "acc"
      ]
    },
    {
      "cell_type": "markdown",
      "id": "8ead3f50-4055-48b3-9b3d-413fcd7937d9",
      "metadata": {
        "id": "8ead3f50-4055-48b3-9b3d-413fcd7937d9"
      },
      "source": [
        "### Retrain model using the 'best hyperparameters' over the entire dataset\n",
        "\n",
        "This step generates a model which uses the largest amount of training data possible. However, doing as such precludes the use of a holdout set and thus an expected generalisation error at this step cannot be computed."
      ]
    },
    {
      "cell_type": "code",
      "execution_count": null,
      "id": "260785fd-0a9a-4069-b6f1-3fd7c592abe1",
      "metadata": {
        "id": "260785fd-0a9a-4069-b6f1-3fd7c592abe1",
        "outputId": "a9e39c6f-c461-46a6-90a7-2ef1e74d6e08"
      },
      "outputs": [
        {
          "data": {
            "text/plain": [
              "RandomForestClassifier(max_features=13, n_estimators=80, random_state=42)"
            ]
          },
          "execution_count": 85,
          "metadata": {},
          "output_type": "execute_result"
        }
      ],
      "source": [
        "model = list(bestEAmodel.fitted_pipeline_.steps)[0][1]\n",
        "model.fit(X, Y)"
      ]
    }
  ],
  "metadata": {
    "kernelspec": {
      "display_name": "Python 3 (ipykernel)",
      "language": "python",
      "name": "python3"
    },
    "language_info": {
      "codemirror_mode": {
        "name": "ipython",
        "version": 3
      },
      "file_extension": ".py",
      "mimetype": "text/x-python",
      "name": "python",
      "nbconvert_exporter": "python",
      "pygments_lexer": "ipython3",
      "version": "3.9.7"
    },
    "colab": {
      "name": "hyperparameterOptimisationRoadmap.ipynb",
      "provenance": [],
      "collapsed_sections": [
        "89d2e05f",
        "b1db60d9",
        "6f709d47",
        "d2dc876e",
        "2ad2d3dd",
        "cf4c803f",
        "0de4097e",
        "2d1aa033",
        "5b5ffd34",
        "ee2009ca",
        "ec4beef2",
        "b6a964d9",
        "99727aca",
        "5fdcd906",
        "ffeaca5e",
        "8efa6f4a-ebf6-4026-a7b8-760a606d25c5",
        "b9a76b8e-7320-4311-ad14-c146de530b52",
        "e5e2fab2-587c-4d6b-bdb7-3d8a3e1cd4fb",
        "8598c6aa-fa81-4017-867a-d5f8a6822961",
        "f7cba982-2bf8-4277-9594-9c958c135621",
        "1fc8b120-672e-464d-a77c-e1436eb83baf",
        "2336646a-1055-4505-9bf0-053b5f373e42",
        "3a47c0db-9a8b-4875-8ad2-e50c70306ab3",
        "f9cde1c9-c5ac-4c9d-bcc0-d1f55f46fd35",
        "7e33ef52-af46-4c4f-b786-4361446a2338",
        "cf5a5d3b-caa5-4f35-bf7b-9164b35d24d9",
        "6260c490-78a5-47b3-ab49-626a1aae1b53",
        "RO3EXEFMjj4Q",
        "69e24840-5d9e-4e9f-8c00-a85b7244f3e0",
        "8ead3f50-4055-48b3-9b3d-413fcd7937d9"
      ],
      "toc_visible": true
    }
  },
  "nbformat": 4,
  "nbformat_minor": 5
}